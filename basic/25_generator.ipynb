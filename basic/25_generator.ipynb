{
 "cells": [
  {
   "cell_type": "markdown",
   "metadata": {},
   "source": [
    "### generator\n",
    "    iterator 를 생성해주는 함수\n",
    "    함수내에서 yield 명령으로 표현되며, 별도로 __iter__, __next__, __getitem__ 등의 함수를 만들 필요가 없다."
   ]
  },
  {
   "cell_type": "code",
   "execution_count": 1,
   "metadata": {},
   "outputs": [
    {
     "name": "stdout",
     "output_type": "stream",
     "text": [
      "my_generator : 0\n",
      "my_generator : 1\n",
      "my_generator : 2\n",
      "my_generator : ['__class__', '__del__', '__delattr__', '__dir__', '__doc__', '__eq__', '__format__', '__ge__', '__getattribute__', '__gt__', '__hash__', '__init__', '__init_subclass__', '__iter__', '__le__', '__lt__', '__name__', '__ne__', '__new__', '__next__', '__qualname__', '__reduce__', '__reduce_ex__', '__repr__', '__setattr__', '__sizeof__', '__str__', '__subclasshook__', 'close', 'gi_code', 'gi_frame', 'gi_running', 'gi_yieldfrom', 'send', 'throw']\n",
      "my_generator next : 0\n",
      "my_generator next : 1\n",
      "my_generator next : 2\n"
     ]
    }
   ],
   "source": [
    "# 1. generator\n",
    "def my_generator():\n",
    "    yield 0\n",
    "    yield 1\n",
    "    yield 2\n",
    "\n",
    "for i in my_generator():\n",
    "    print(\"my_generator :\", i)\n",
    "\n",
    "# generator 가 __iter__ 있는지 확인\n",
    "print(\"my_generator :\", dir(my_generator()))\n",
    "\n",
    "# next 함수 사용\n",
    "def my_generator():\n",
    "    yield 0\n",
    "    yield 1\n",
    "    yield 2\n",
    "\n",
    "a = my_generator()\n",
    "\n",
    "print(\"my_generator next :\", next(a))\n",
    "print(\"my_generator next :\", next(a))\n",
    "print(\"my_generator next :\", next(a))"
   ]
  },
  {
   "cell_type": "code",
   "execution_count": 2,
   "metadata": {},
   "outputs": [
    {
     "name": "stdout",
     "output_type": "stream",
     "text": [
      "my_generator next : 0\n",
      "my_generator next : 1\n",
      "my_generator next : 2\n",
      "#--------------------#\n",
      "my_generator next : 0\n",
      "my_generator next : 1\n",
      "my_generator next : 2\n"
     ]
    }
   ],
   "source": [
    "# 2. generator 의 예외 그리고 return\n",
    "def my_generator():\n",
    "    yield 0\n",
    "    yield 1\n",
    "    yield 2\n",
    "\n",
    "a = my_generator()\n",
    "\n",
    "print(\"my_generator next :\", next(a))\n",
    "print(\"my_generator next :\", next(a))\n",
    "print(\"my_generator next :\", next(a))\n",
    "#print(\"my_generator next :\", next(a))   # 횟수를 넘어가면 동일하게 StopIteration 발생\n",
    "\n",
    "print(\"#\"+\"-\"*20+\"#\")\n",
    "\n",
    "# return 명령을 통해 원하는 메시지 출력 가능\n",
    "def my_generator():\n",
    "    yield 0\n",
    "    yield 1\n",
    "    yield 2\n",
    "    return \"횟수 초과\"  # StopIteration 과 함께 메시지 출력\n",
    "\n",
    "a = my_generator()\n",
    "\n",
    "print(\"my_generator next :\", next(a))\n",
    "print(\"my_generator next :\", next(a))\n",
    "print(\"my_generator next :\", next(a))\n",
    "# print(\"my_generator next :\", next(a))   # 횟수를 넘어가면 동일하게 StopIteration 발생"
   ]
  },
  {
   "cell_type": "code",
   "execution_count": 3,
   "metadata": {},
   "outputs": [
    {
     "name": "stdout",
     "output_type": "stream",
     "text": [
      "my_generator : A\n",
      "my_generator : B\n",
      "my_generator : C\n"
     ]
    }
   ],
   "source": [
    "# 3. yield 와 함수\n",
    "def my_generator(a):\n",
    "    for i in a:\n",
    "        yield i.upper()\n",
    "\n",
    "a = [\"a\", \"b\", \"c\"]\n",
    "for i in my_generator(a):\n",
    "    print(\"my_generator :\", i)"
   ]
  },
  {
   "cell_type": "code",
   "execution_count": 4,
   "metadata": {},
   "outputs": [
    {
     "name": "stdout",
     "output_type": "stream",
     "text": [
      "my_generator from : 10\n",
      "my_generator from : 20\n",
      "my_generator from : 30\n"
     ]
    }
   ],
   "source": [
    "# 4. yield, from\n",
    "def my_generator():\n",
    "    a = [10,20,30]\n",
    "    for i in a:\n",
    "        yield i\n",
    "\n",
    "a = my_generator()\n",
    "\n",
    "print(\"my_generator from :\", next(a))\n",
    "print(\"my_generator from :\", next(a))\n",
    "print(\"my_generator from :\", next(a))"
   ]
  }
 ],
 "metadata": {
  "kernelspec": {
   "display_name": "Python 3",
   "language": "python",
   "name": "python3"
  },
  "language_info": {
   "codemirror_mode": {
    "name": "ipython",
    "version": 3
   },
   "file_extension": ".py",
   "mimetype": "text/x-python",
   "name": "python",
   "nbconvert_exporter": "python",
   "pygments_lexer": "ipython3",
   "version": "3.7.2"
  }
 },
 "nbformat": 4,
 "nbformat_minor": 2
}
