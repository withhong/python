{
 "cells": [
  {
   "cell_type": "raw",
   "metadata": {},
   "source": [
    "# comment : #\n",
    "# 10\n",
    "# A = 'hello world'\n",
    "# A = A + 1"
   ]
  },
  {
   "cell_type": "raw",
   "metadata": {},
   "source": [
    "# multi-line comment\n",
    "'''\n",
    "Author : name\n",
    "Date : 2019.5.15\n",
    "'''"
   ]
  },
  {
   "cell_type": "code",
   "execution_count": 1,
   "metadata": {},
   "outputs": [
    {
     "name": "stdout",
     "output_type": "stream",
     "text": [
      "Hello World\n",
      "Hello World !\n",
      "100\n"
     ]
    }
   ],
   "source": [
    "# print 'Hello World'\n",
    "print('Hello World')\n",
    "print('Hello', 'World', '!')\n",
    "print(100)"
   ]
  }
 ],
 "metadata": {
  "kernelspec": {
   "display_name": "Python 3",
   "language": "python",
   "name": "python3"
  },
  "language_info": {
   "codemirror_mode": {
    "name": "ipython",
    "version": 3
   },
   "file_extension": ".py",
   "mimetype": "text/x-python",
   "name": "python",
   "nbconvert_exporter": "python",
   "pygments_lexer": "ipython3",
   "version": "3.7.3"
  }
 },
 "nbformat": 4,
 "nbformat_minor": 2
}
