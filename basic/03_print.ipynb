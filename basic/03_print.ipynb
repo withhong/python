{
 "cells": [
  {
   "cell_type": "code",
   "execution_count": 1,
   "metadata": {},
   "outputs": [
    {
     "name": "stdout",
     "output_type": "stream",
     "text": [
      "100\n",
      "hello world\n",
      "100 200\n",
      "300 400\n",
      "100,200\t300,400\n"
     ]
    }
   ],
   "source": [
    "# 1. 일반적인 print 사용\n",
    "print(100)\n",
    "print(\"hello world\")\n",
    "# default sep=\" \", default end=\"\\n\"\n",
    "print(100,200)\n",
    "print(300,400)\n",
    "print(100,200,sep=\",\", end=\"\\t\")\n",
    "print(300,400,sep=\",\")"
   ]
  },
  {
   "cell_type": "code",
   "execution_count": 2,
   "metadata": {},
   "outputs": [
    {
     "name": "stdout",
     "output_type": "stream",
     "text": [
      "이름은 홍길동이고 나이는 20\n"
     ]
    }
   ],
   "source": [
    "# 2. format 출력\n",
    "# format_spec :: = [[ fill] align] [ sign] [#] [0] [ width] [ grouping_option] [. precision] [ type]\n",
    "# fill :: = <모든 문자>\n",
    "# align :: = \"<\"| \">\"| \"=\"| \"^\"\n",
    "# sign :: = \"+\"| \"-\"| \"\"\n",
    "# width :: = digit+ grouping_option :: = \"_\"| \",\"\n",
    "# precision :: = digit+\n",
    "# type :: = \"b\"| \"c\"| \"d\"| \"e\"| \"E\"| \"f\"| \"F\"| \"g\"| \"G\"| \"n\"| \"o\"| \"s\"| \"x\"| \"X\"\n",
    "\n",
    "n = \"홍길동\"\n",
    "a = 20\n",
    "print(\"이름은 \"+n+\"이고 나이는 \"+str(a))"
   ]
  },
  {
   "cell_type": "code",
   "execution_count": 3,
   "metadata": {},
   "outputs": [
    {
     "name": "stdout",
     "output_type": "stream",
     "text": [
      "이름은 홍길동이고 나이는 20\n",
      "이름은 홍길동이고 나이는 20\n",
      "이름은 이순신이고 나이는 20\n"
     ]
    }
   ],
   "source": [
    "# 3. 다양한 format 출력\n",
    "# 문법 :\n",
    "# '{}'.format(값)\n",
    "# '{}{}'.format(값1, 값2)\n",
    "\n",
    "print(\"이름은 {0}이고 나이는 {1}\".format(n, str(a)))\n",
    "\n",
    "mesg = \"이름은 {0}이고 나이는 {1}\".format(n, str(a))\n",
    "print(mesg)\n",
    "\n",
    "mesg = \"이름은 {0}이고 나이는 {1}\".format(\"이순신\", 20)\n",
    "print(mesg)"
   ]
  },
  {
   "cell_type": "code",
   "execution_count": 4,
   "metadata": {},
   "outputs": [
    {
     "name": "stdout",
     "output_type": "stream",
     "text": [
      "h::::::e\n",
      "e::::::lh\n"
     ]
    }
   ],
   "source": [
    "# unpacking\n",
    "mesg = \"{0}::::::{1}\".format(*\"hello\")\n",
    "print(mesg)\n",
    "mesg = \"{1}::::::{2}{0}\".format(*\"hello\")\n",
    "print(mesg)"
   ]
  },
  {
   "cell_type": "code",
   "execution_count": 5,
   "metadata": {},
   "outputs": [
    {
     "name": "stdout",
     "output_type": "stream",
     "text": [
      "10::::::20\n",
      "10::::::20\n",
      "10::::::20\n"
     ]
    }
   ],
   "source": [
    "# list\n",
    "mesg = \"{0[0]}::::::{0[1]}\".format([10,20])\n",
    "print(mesg)\n",
    "mesg = \"{0}::::::{1}\".format(*[10,20])\n",
    "print(mesg)\n",
    "\n",
    "# set : set 은 불가, 순서가 없기 때문에\n",
    "# mesg =  \"{0[0]}::::::{0[1]}\".format({10,20})\n",
    "# print(mesg)\n",
    "\n",
    "# tuple\n",
    "mesg =  \"{0[0]}::::::{0[1]}\".format((10,20))\n",
    "print(mesg)"
   ]
  },
  {
   "cell_type": "code",
   "execution_count": 6,
   "metadata": {},
   "outputs": [
    {
     "name": "stdout",
     "output_type": "stream",
     "text": [
      "123,456,789\n"
     ]
    }
   ],
   "source": [
    "# 3자리마다 ','\n",
    "price = '{:,}'.format(123456789)\n",
    "print(price)"
   ]
  },
  {
   "cell_type": "code",
   "execution_count": 7,
   "metadata": {},
   "outputs": [
    {
     "name": "stdout",
     "output_type": "stream",
     "text": [
      "1234.000000,1234.000,1234,       1234\n",
      "1234.000000,1234.000,1234,       1234\n"
     ]
    }
   ],
   "source": [
    "# 정수, 실수\n",
    "price = '{0:f},{0:.3f},{0:d},{0:11d}'.format(1234)\n",
    "print(price)\n",
    "print('{0:f},{0:.3f},{0:d},{0:11d}'.format(1234))"
   ]
  },
  {
   "cell_type": "code",
   "execution_count": 8,
   "metadata": {},
   "outputs": [
    {
     "name": "stdout",
     "output_type": "stream",
     "text": [
      "0x0ff 0ff 0FF\n",
      "00000010\n",
      "0x00000010\n",
      "0x0000_0010\n"
     ]
    }
   ],
   "source": [
    "# 16진수\n",
    "print(\"%#0.3x\"%255, \"%0.3x\"%255, \"%0.3X\"%255)\n",
    "# print('{0:#{width}{base}}'.format(16, base='x', width=4))\n",
    "print('{0:08x}'.format(16))\n",
    "print('{0:#010x}'.format(16))\n",
    "print('{0:#011_x}'.format(16))"
   ]
  },
  {
   "cell_type": "code",
   "execution_count": 9,
   "metadata": {},
   "outputs": [
    {
     "name": "stdout",
     "output_type": "stream",
     "text": [
      "ABC  \n",
      "  ABC\n",
      " ABC \n",
      "-10  \n",
      "  -10\n",
      " -10 \n",
      "-  10\n",
      "100\n",
      "-100\n",
      "+100\n",
      "-100\n",
      " 100\n",
      "-100\n"
     ]
    }
   ],
   "source": [
    "# 정렬\n",
    "print('{:<5}'.format(\"ABC\"))\n",
    "print('{:>5}'.format(\"ABC\"))\n",
    "print('{:^5}'.format(\"ABC\"))\n",
    "\n",
    "print('{:<5}'.format(-10))\n",
    "print('{:>5}'.format(-10))\n",
    "print('{:^5}'.format(-10))\n",
    "print('{:=5}'.format(-10))\n",
    "\n",
    "print('{:}'.format(100))\n",
    "print('{:}'.format(-100))\n",
    "print('{:+}'.format(100))    # 양수, 음수 모두 부호 표시\n",
    "print('{:+}'.format(-100))   # 양수, 음수 모두 부호 표시\n",
    "print('{: }'.format(100))    # 양수의 경우 부호 없이 한칸 띄우고, 음수는 부호 표시\n",
    "print('{: }'.format(-100))   # 양수의 경우 부호 없이 한칸 띄우고, 음수는 부호 표시"
   ]
  },
  {
   "cell_type": "code",
   "execution_count": 10,
   "metadata": {},
   "outputs": [
    {
     "name": "stdout",
     "output_type": "stream",
     "text": [
      "123 456\n"
     ]
    }
   ],
   "source": [
    "# dict 출력\n",
    "person = {\"A\":\"123\", \"B\":\"456\", \"C\":\"789\"}\n",
    "print('{p[A]} {p[B]}'.format(p=person))"
   ]
  }
 ],
 "metadata": {
  "kernelspec": {
   "display_name": "Python 3",
   "language": "python",
   "name": "python3"
  },
  "language_info": {
   "codemirror_mode": {
    "name": "ipython",
    "version": 3
   },
   "file_extension": ".py",
   "mimetype": "text/x-python",
   "name": "python",
   "nbconvert_exporter": "python",
   "pygments_lexer": "ipython3",
   "version": "3.7.2"
  }
 },
 "nbformat": 4,
 "nbformat_minor": 2
}
