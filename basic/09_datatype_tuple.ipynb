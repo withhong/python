{
 "cells": [
  {
   "cell_type": "code",
   "execution_count": 1,
   "metadata": {},
   "outputs": [],
   "source": [
    "#1. tuple 생성 : 순서 있고 중복가능하고 수정안됨, 혼합데이터 가능\n",
    "m = (10, 1, 3, 7, 2)\n",
    "m = ()"
   ]
  },
  {
   "cell_type": "code",
   "execution_count": 2,
   "metadata": {},
   "outputs": [
    {
     "name": "stdout",
     "output_type": "stream",
     "text": [
      "길이:  5\n",
      "포함갯수:  1\n",
      "특정위치:  0\n",
      "특정값 포함여부:  True\n"
     ]
    }
   ],
   "source": [
    "m = (10, 1, 3, 7, 2)\n",
    "print(\"길이: \", len(m))\n",
    "print(\"포함갯수: \", (10, 1, 3, 7, 2).count(1))\n",
    "print(\"특정위치: \", (10, 1, 3, 7, 2).index(10))\n",
    "print(\"특정값 포함여부: \", 10 in (10, 1, 3, 7, 2))"
   ]
  },
  {
   "cell_type": "code",
   "execution_count": 3,
   "metadata": {},
   "outputs": [
    {
     "name": "stdout",
     "output_type": "stream",
     "text": [
      "slice:  10\n",
      "slice:  (10, 1)\n",
      "slice:  (10, 1, 3, 7, 2)\n",
      "slice:  (10, 1, 3)\n",
      "slice:  (10, 1, 3, 7)\n",
      "slice:  (10, 1, 3, 7, 2)\n"
     ]
    }
   ],
   "source": [
    "print(\"slice: \", m[0])\n",
    "print(\"slice: \", m[0:2])\n",
    "print(\"slice: \", m[0:])\n",
    "print(\"slice: \", m[:3])\n",
    "print(\"slice: \", m[:-1])\n",
    "print(\"slice: \", m[:])"
   ]
  }
 ],
 "metadata": {
  "kernelspec": {
   "display_name": "Python 3",
   "language": "python",
   "name": "python3"
  },
  "language_info": {
   "codemirror_mode": {
    "name": "ipython",
    "version": 3
   },
   "file_extension": ".py",
   "mimetype": "text/x-python",
   "name": "python",
   "nbconvert_exporter": "python",
   "pygments_lexer": "ipython3",
   "version": "3.7.2"
  }
 },
 "nbformat": 4,
 "nbformat_minor": 2
}
