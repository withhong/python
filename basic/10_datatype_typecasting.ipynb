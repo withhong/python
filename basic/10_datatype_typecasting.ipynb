{
 "cells": [
  {
   "cell_type": "code",
   "execution_count": 1,
   "metadata": {},
   "outputs": [
    {
     "name": "stdout",
     "output_type": "stream",
     "text": [
      "[10, 20, 30] {10, 20, 30}\n",
      "[10, 20, 30] (10, 20, 30)\n"
     ]
    }
   ],
   "source": [
    "# 1. list -> set, tuple\n",
    "p1 = [10,20,30] # list\n",
    "\n",
    "# list -> tuple\n",
    "p2 = set(p1)\n",
    "print(p1,p2)\n",
    "\n",
    "# list -> list\n",
    "p2 = tuple(p1)\n",
    "print(p1,p2)"
   ]
  },
  {
   "cell_type": "code",
   "execution_count": 2,
   "metadata": {},
   "outputs": [
    {
     "name": "stdout",
     "output_type": "stream",
     "text": [
      "{10, 20, 30} (10, 20, 30)\n",
      "{10, 20, 30} [10, 20, 30]\n"
     ]
    }
   ],
   "source": [
    "# 2. set -> tuple, list\n",
    "p1 = {10,20,30} # set\n",
    "\n",
    "# set -> tuple\n",
    "p2 = tuple(p1)\n",
    "print(p1,p2)\n",
    "\n",
    "# set -> list\n",
    "p2 = list(p1)\n",
    "print(p1,p2)"
   ]
  },
  {
   "cell_type": "code",
   "execution_count": 3,
   "metadata": {},
   "outputs": [
    {
     "name": "stdout",
     "output_type": "stream",
     "text": [
      "(10, 20, 30) [10, 20, 30]\n",
      "(10, 20, 30) {10, 20, 30}\n"
     ]
    }
   ],
   "source": [
    "# 3. tuple -> list, set\n",
    "p1 = (10,20,30) # tuple\n",
    "\n",
    "# tuple -> list\n",
    "p2 = list(p1)\n",
    "print(p1,p2)\n",
    "\n",
    "# tuple -> set\n",
    "p2 = set(p1)\n",
    "print(p1,p2)"
   ]
  },
  {
   "cell_type": "code",
   "execution_count": 4,
   "metadata": {},
   "outputs": [
    {
     "name": "stdout",
     "output_type": "stream",
     "text": [
      "합집합:  {1, 2, 3, 4}\n",
      "교집합:  {3, 4}\n",
      "차집합:  {1, 2}\n"
     ]
    }
   ],
   "source": [
    "# 2. set 에서는 합집합, 교집합, 차집합이 사용 가능\n",
    "a = {1,2,3,4}\n",
    "b = {3,4}\n",
    "print(\"합집합: \", a.union(b))\n",
    "print(\"교집합: \", a.intersection(b))\n",
    "print(\"차집합: \", a.difference(b))"
   ]
  }
 ],
 "metadata": {
  "kernelspec": {
   "display_name": "Python 3",
   "language": "python",
   "name": "python3"
  },
  "language_info": {
   "codemirror_mode": {
    "name": "ipython",
    "version": 3
   },
   "file_extension": ".py",
   "mimetype": "text/x-python",
   "name": "python",
   "nbconvert_exporter": "python",
   "pygments_lexer": "ipython3",
   "version": "3.7.2"
  }
 },
 "nbformat": 4,
 "nbformat_minor": 2
}
