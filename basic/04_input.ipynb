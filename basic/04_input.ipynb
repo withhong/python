{
 "cells": [
  {
   "cell_type": "code",
   "execution_count": 1,
   "metadata": {},
   "outputs": [
    {
     "name": "stdout",
     "output_type": "stream",
     "text": [
      "이름 입력: 홍길동\n",
      "홍길동\n"
     ]
    }
   ],
   "source": [
    "# keyboard 입력\n",
    "m = input(\"이름 입력: \")\n",
    "print(m)"
   ]
  },
  {
   "cell_type": "code",
   "execution_count": 5,
   "metadata": {},
   "outputs": [
    {
     "name": "stdout",
     "output_type": "stream",
     "text": [
      "4개 입력(예: 1 2 3 4): 1 2 3 4\n",
      "1 2 3 4 10\n"
     ]
    }
   ],
   "source": [
    "# 여러 입력 한번에 받는 방법\n",
    "#a, b, c, d = map(int, input(\"4개 입력(예: 1 2 3 4): \").split(\" \"))\n",
    "a, b, c, d = map(int, input(\"4개 입력(예: 1 2 3 4): \").split())\n",
    "print(a, b, c, d, sum([a, b, c, d]))"
   ]
  }
 ],
 "metadata": {
  "kernelspec": {
   "display_name": "Python 3",
   "language": "python",
   "name": "python3"
  },
  "language_info": {
   "codemirror_mode": {
    "name": "ipython",
    "version": 3
   },
   "file_extension": ".py",
   "mimetype": "text/x-python",
   "name": "python",
   "nbconvert_exporter": "python",
   "pygments_lexer": "ipython3",
   "version": "3.7.3"
  }
 },
 "nbformat": 4,
 "nbformat_minor": 2
}
