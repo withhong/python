{
 "cells": [
  {
   "cell_type": "markdown",
   "metadata": {},
   "source": [
    "### decorator\n",
    "    '@' 를 붙이며 @abstractmethod, @staticmethod, @classmethod 등이 모두 decorator"
   ]
  },
  {
   "cell_type": "code",
   "execution_count": 1,
   "metadata": {},
   "outputs": [
    {
     "name": "stdout",
     "output_type": "stream",
     "text": [
      "my_func_1\n",
      "my_func_2\n",
      "#--------------------#\n",
      "***** function name : my_func_1 start *****\n",
      "my_func_1\n",
      "***** function name : my_func_1 end *****\n",
      "***** function name : my_func_2 start *****\n",
      "my_func_2\n",
      "***** function name : my_func_2 end *****\n"
     ]
    }
   ],
   "source": [
    "# 1. decorator\n",
    "# simple function call\n",
    "def my_func_1():\n",
    "    print(\"my_func_1\")\n",
    "\n",
    "def my_func_2():\n",
    "    print(\"my_func_2\")\n",
    "\n",
    "my_func_1()\n",
    "my_func_2()\n",
    "\n",
    "print(\"#\"+\"-\"*20+\"#\")\n",
    "\n",
    "# 함수 이름, 정보 표시\n",
    "def func_exec(function):\n",
    "    def wrapper():\n",
    "        print(\"*****\", \"function name :\", function.__name__, \"start\", \"*****\")\n",
    "        function()\n",
    "        print(\"*****\", \"function name :\", function.__name__, \"end\", \"*****\")\n",
    "    return wrapper\n",
    "\n",
    "def my_func_1():\n",
    "    print(\"my_func_1\")\n",
    "\n",
    "def my_func_2():\n",
    "    print(\"my_func_2\")\n",
    "\n",
    "a = func_exec(my_func_1)\n",
    "b = func_exec(my_func_2)\n",
    "\n",
    "a()\n",
    "b()"
   ]
  },
  {
   "cell_type": "code",
   "execution_count": 2,
   "metadata": {},
   "outputs": [
    {
     "name": "stdout",
     "output_type": "stream",
     "text": [
      "***** function name : my_func_1 start *****\n",
      "my_func_1\n",
      "***** function name : my_func_1 end *****\n",
      "***** function name : my_func_2 start *****\n",
      "my_func_2\n",
      "***** function name : my_func_2 end *****\n"
     ]
    }
   ],
   "source": [
    "# '@' 사용\n",
    "def func_exec(function):\n",
    "    def wrapper():\n",
    "        print(\"*****\", \"function name :\", function.__name__, \"start\", \"*****\")\n",
    "        function()\n",
    "        print(\"*****\", \"function name :\", function.__name__, \"end\", \"*****\")\n",
    "    return wrapper\n",
    "\n",
    "@func_exec\n",
    "def my_func_1():\n",
    "    print(\"my_func_1\")\n",
    "\n",
    "@func_exec\n",
    "def my_func_2():\n",
    "    print(\"my_func_2\")\n",
    "\n",
    "my_func_1()\n",
    "my_func_2()"
   ]
  },
  {
   "cell_type": "code",
   "execution_count": 3,
   "metadata": {},
   "outputs": [
    {
     "name": "stdout",
     "output_type": "stream",
     "text": [
      "***** function name : my_func_1 start *****\n",
      "***** function name : my_func_1 end *****\n",
      "3\n",
      "***** function name : my_func_2 start *****\n",
      "***** function name : my_func_2 end *****\n",
      "1\n"
     ]
    }
   ],
   "source": [
    "# 2. 파라미터 있고 반환값 있는 decorator\n",
    "def func_exec(function):\n",
    "    def wrapper(a, b):\n",
    "        print(\"*****\", \"function name :\", function.__name__, \"start\", \"*****\")\n",
    "        c = function(a, b)\n",
    "        print(\"*****\", \"function name :\", function.__name__, \"end\", \"*****\")\n",
    "        return c\n",
    "    return wrapper\n",
    "\n",
    "@func_exec\n",
    "def my_func_1(a, b):\n",
    "    return a + b\n",
    "\n",
    "@func_exec\n",
    "def my_func_2(a, b):\n",
    "    return a - b\n",
    "\n",
    "print(my_func_1(2, 1))\n",
    "print(my_func_2(2, 1))"
   ]
  },
  {
   "cell_type": "code",
   "execution_count": 4,
   "metadata": {},
   "outputs": [
    {
     "name": "stdout",
     "output_type": "stream",
     "text": [
      "<A><B>Hello, world!</B></A>\n"
     ]
    }
   ],
   "source": [
    "# 3. tag 붙이기\n",
    "def html_tag(tag):              # decorator 자체가 tag 라는 파라미터를 받음\n",
    "    def decorator(func):        # 실제 decorator 역할을 하며 function 을 입력으로 받음\n",
    "        def wrapper():          # 실제 함수는 파라미터가 없음 (hello)\n",
    "            a = func()\n",
    "            b = r\"<{0}>{1}</{0}>\".format(tag, a)\n",
    "            return b\n",
    "        return wrapper\n",
    "    return decorator\n",
    "\n",
    "a, b = [\"A\", \"B\"]\n",
    "\n",
    "@html_tag(a)\n",
    "@html_tag(b)\n",
    "def hello():\n",
    "    return 'Hello, world!'\n",
    "\n",
    "print(hello())"
   ]
  }
 ],
 "metadata": {
  "kernelspec": {
   "display_name": "Python 3",
   "language": "python",
   "name": "python3"
  },
  "language_info": {
   "codemirror_mode": {
    "name": "ipython",
    "version": 3
   },
   "file_extension": ".py",
   "mimetype": "text/x-python",
   "name": "python",
   "nbconvert_exporter": "python",
   "pygments_lexer": "ipython3",
   "version": "3.7.2"
  }
 },
 "nbformat": 4,
 "nbformat_minor": 2
}
