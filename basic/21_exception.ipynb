{
 "cells": [
  {
   "cell_type": "markdown",
   "metadata": {},
   "source": [
    "### 예외 (exception) -> 통상적으로 에러\n",
    "    예외 발생 -> 프로그램이 비정상적으로 처리됨\n",
    "    예외 처리 -> 발생된 예외를 처리하는 것이 아니고 정상종료 하도록 유도\n",
    " \n",
    "### 예외 처리 방법\n",
    "    예외클래스(계층구조)를 제공해서 처리, (파이썬 문서(python.org) 에서 hierarchy 볼 수 있음 (library reference))\n",
    "    try ~ except 문장\n",
    "    finally 문"
   ]
  },
  {
   "cell_type": "code",
   "execution_count": 1,
   "metadata": {},
   "outputs": [
    {
     "name": "stdout",
     "output_type": "stream",
     "text": [
      "실행결과: 2.0\n",
      "정상종료\n"
     ]
    }
   ],
   "source": [
    "# 1. 예외 발생\n",
    "n1 = 10\n",
    "n2 = n1/5\n",
    "#n2 = n1/0    # 실행시키면 에러 발생 (ZeroDivisionError: division by zero)\n",
    "print(\"실행결과:\", n2)\n",
    "print(\"정상종료\")"
   ]
  },
  {
   "cell_type": "code",
   "execution_count": 2,
   "metadata": {},
   "outputs": [
    {
     "name": "stdout",
     "output_type": "stream",
     "text": [
      "예외처리 코드 division by zero\n",
      "정상종료\n"
     ]
    }
   ],
   "source": [
    "# 2. 예외 처리 (try ~ except)\n",
    "try:\n",
    "    n1 = 10\n",
    "    #n2 = n1/2\n",
    "    n2 = n1/0\n",
    "    print(\"실행결과:\", n2)\n",
    "\n",
    "# ZeroDivisionError 의 hierarchy\n",
    "# Exception > ArithmeticError > ZeroDivisionError\n",
    "except ZeroDivisionError as e:    # 해당하는 에러종류를 써줘야 함. (정확하게 종류를 써주는 것이 좋음)\n",
    "# except ArithmeticError as e:      # hierarchy 에서 상위는 사용가능 (다형성)\n",
    "# except Exception as e:            # hierarchy 에서 상위는 사용가능 (다형성)\n",
    "# except TabError as e:             # hierarchy 가 완전 다르기 때문에 동작안됨\n",
    "    print(\"예외처리 코드\", e)\n",
    "# except:\n",
    "#     print(\"예외처리 코드\")\n",
    "print(\"정상종료\")"
   ]
  },
  {
   "cell_type": "code",
   "execution_count": 3,
   "metadata": {},
   "outputs": [
    {
     "name": "stdout",
     "output_type": "stream",
     "text": [
      "예외처리 코드 division by zero\n",
      "finally : 반드시 수행\n",
      "finally : 파일, DB 입출력(외부자원)의 close 작업\n",
      "정상종료\n"
     ]
    }
   ],
   "source": [
    "# 3. 예외 처리 (try ~ except, finally)\n",
    "try:\n",
    "    n1 = 10\n",
    "    #n2 = n1/2\n",
    "    n2 = n1/0\n",
    "    print(\"실행결과:\", n2)\n",
    "\n",
    "# ZeroDivisionError 의 hierarchy\n",
    "# Exception > ArithmeticError > ZeroDivisionError\n",
    "except ZeroDivisionError as e:    # 해당하는 에러종류를 써줘야 함. (정확하게 종류를 써주는 것이 좋음)\n",
    "    print(\"예외처리 코드\", e)\n",
    "finally:\n",
    "    print(\"finally : 반드시 수행\")\n",
    "    print(\"finally : 파일, DB 입출력(외부자원)의 close 작업\") # 예외동작을 하든 안하든 동작되는 코드에는 외부자원을 사용하는 부분의 close 작업을 넣어준다.\n",
    "print(\"정상종료\")"
   ]
  },
  {
   "cell_type": "code",
   "execution_count": 4,
   "metadata": {},
   "outputs": [
    {
     "name": "stdout",
     "output_type": "stream",
     "text": [
      "예외처리 코드 division by zero\n",
      "finally : 반드시 수행\n",
      "finally : 파일, DB 입출력(외부자원)의 close 작업\n",
      "정상종료\n"
     ]
    }
   ],
   "source": [
    "# 4. 예외 처리 (try ~ except, finally, 서로 다른 exception 이 있는 경우)\n",
    "# 명시적으로 각각 예외처리를 하고 마지막에는 전체 예외에 대한 처리를 넣어준다.\n",
    "\n",
    "try:\n",
    "    n1 = 10\n",
    "    #n2 = n1/2\n",
    "    n2 = n1/0\n",
    "    print(\"실행결과:\", n2)\n",
    "\n",
    "except ZeroDivisionError as e:    # 해당하는 에러종류를 써줘야 함. (정확하게 종류를 써주는 것이 좋음)\n",
    "    print(\"예외처리 코드\", e)\n",
    "except IndexError as e:\n",
    "    print(\"예외처리 코드\", e)\n",
    "except Exception as e:\n",
    "    print(\"예외처리 코드\", e)\n",
    "finally:\n",
    "    print(\"finally : 반드시 수행\")\n",
    "    print(\"finally : 파일, DB 입출력(외부자원)의 close 작업\") # 예외동작을 하든 안하든 동작되는 코드에는 외부자원을 사용하는 부분의 close 작업을 넣어준다.\n",
    "print(\"정상종료\")"
   ]
  },
  {
   "cell_type": "code",
   "execution_count": 5,
   "metadata": {},
   "outputs": [
    {
     "name": "stdout",
     "output_type": "stream",
     "text": [
      "프로그램 시작\n",
      "결과값 5.0\n",
      "finally : 반드시 수행\n",
      "정상종료\n"
     ]
    }
   ],
   "source": [
    "# 5. finally 문 사용 (except 없이)\n",
    "# except 없이 try finally 만 사용할 수 있음\n",
    "# 반드시 수행해야 하는 작업만 수행하겠다는 의미\n",
    "\n",
    "print(\"프로그램 시작\")\n",
    "try:\n",
    "    n = 10 / 2\n",
    "    print(\"결과값\", n)\n",
    "finally:\n",
    "    print(\"finally : 반드시 수행\")\n",
    "print(\"정상종료\")"
   ]
  },
  {
   "cell_type": "code",
   "execution_count": 6,
   "metadata": {},
   "outputs": [
    {
     "name": "stdout",
     "output_type": "stream",
     "text": [
      "6. 프로그램 시작\n",
      "6. 랜덤값 : 0\n",
      "6. 예외처리 코드 랜덤값이 0: 예외발생\n",
      "6. 정상종료\n"
     ]
    }
   ],
   "source": [
    "# 6. 사용자 정의 예외\n",
    "# 지금까지는 예외를 시스템이 발생시킴\n",
    "# 사용자가 명시적으로 예외 발생시키고 처리 가능\n",
    "# 사용자가 명시적으로 예외 발생시칸다는 것은 시스템이 발생시킨다는 의미. 즉, 문법적으로는 문제가 없음\n",
    "# 개발자가 만든 프로그램에서 개발자가 지정한 특정 조건에 위배되었을 경우 강제적으로 예외 발생함\n",
    "# raise 예외클래스명(mesg) -> 자바는 throw 예외클래스명(mesg)\n",
    "\n",
    "# 사용자 정의 예외클래스\n",
    "class UserException(Exception):  # 반드시 Exception 클래스를 상속받아야 함\n",
    "\n",
    "    def __init__(self, mesg):\n",
    "        self.mesg = mesg\n",
    "\n",
    "#\n",
    "import random\n",
    "\n",
    "def randomValue():\n",
    "    n = random.randrange(0, 2)\n",
    "    print(\"6. 랜덤값 :\", n)\n",
    "    if n == 0:\n",
    "        # 사용자 정의 예외클래스 이용\n",
    "        raise UserException(\"랜덤값이 0: 예외발생\")  # 클래스이름(값). 즉, 객체 생성과 동일\n",
    "        # 기존 예외 이용 가능\n",
    "        # raise ZeroDivisionError(\"랜덤값이 2: 예외발생\")     # 클래스이름(값). 즉, 객체 생성과 동일\n",
    "\n",
    "print(\"6. 프로그램 시작\")\n",
    "try:\n",
    "    randomValue()\n",
    "except ZeroDivisionError as e:\n",
    "    print(\"6. 예외처리 코드\", e)\n",
    "except UserException as e:\n",
    "    print(\"6. 예외처리 코드\", e)\n",
    "else:                           # 예외가 발생하지 않았을때를 위해서 'else'를 사용할 수 있다.\n",
    "    print(\"6. 예외발생 안함\")\n",
    "print(\"6. 정상종료\")"
   ]
  },
  {
   "cell_type": "code",
   "execution_count": 7,
   "metadata": {},
   "outputs": [
    {
     "name": "stdout",
     "output_type": "stream",
     "text": [
      "7. 프로그램 시작\n",
      "7. 예외처리 코드 0으로 나눔: 예외발생\n",
      "7. 정상종료\n"
     ]
    }
   ],
   "source": [
    "# 7. 시스템이 발생시킨 예외를 사용자 정의 예외로 처리하는 방법\n",
    "# 시스템이 발생한 에러 -> 영문자 에러 메시지가 출력됨\n",
    "# 시스템이 발생한 에러 -> 사용자 정의 예외로 하여 한글로 된 에러 메시지 출력\n",
    "\n",
    "# 사용자 정의 예외클래스\n",
    "class UserException(Exception):  # 반드시 Exception 클래스를 상속받아야 함\n",
    "\n",
    "    def __init__(self, mesg):\n",
    "        self.mesg = mesg\n",
    "\n",
    "#\n",
    "def calc():\n",
    "    try:\n",
    "        n1 = 10\n",
    "        n2 = n1 / 0\n",
    "        print(\"7. 실행결과:\", n2)\n",
    "    except ZeroDivisionError as e:\n",
    "        raise UserException(\"0으로 나눔: 예외발생\")\n",
    "\n",
    "\n",
    "print(\"7. 프로그램 시작\")\n",
    "try:\n",
    "    calc()\n",
    "except UserException as e:\n",
    "    print(\"7. 예외처리 코드\", e)\n",
    "print(\"7. 정상종료\")"
   ]
  },
  {
   "cell_type": "code",
   "execution_count": 8,
   "metadata": {},
   "outputs": [
    {
     "name": "stdout",
     "output_type": "stream",
     "text": [
      "8. 프로그램 시작\n",
      "8. 랜덤값 : 1\n",
      "8. 예외처리 코드 Check User Exception\n",
      "8. 정상종료\n"
     ]
    }
   ],
   "source": [
    "# 8. 사용자 정의 예외의 예제\n",
    "# 랜덤값 생성하여 생성된 값이 특정값이면 예외 발생\n",
    "\n",
    "# 사용자 정의 예외클래스\n",
    "class UserException(Exception):  # 반드시 Exception 클래스를 상속받아야 함\n",
    "\n",
    "    # def __init__(self, mesg):\n",
    "    #     self.mesg = mesg\n",
    "\n",
    "    def __init__(self):\n",
    "        super().__init__(\"Check User Exception\")\n",
    "\n",
    "#\n",
    "import random\n",
    "\n",
    "def randomValue():\n",
    "    n = random.randrange(0, 2)\n",
    "    print(\"8. 랜덤값 :\", n)\n",
    "    if n == 1:\n",
    "        # 사용자 정의 예외클래스 이용\n",
    "        raise UserException  # 클래스이름(값). 즉, 객체 생성과 동일\n",
    "\n",
    "print(\"8. 프로그램 시작\")\n",
    "try:\n",
    "    randomValue()\n",
    "except UserException as e:\n",
    "    print(\"8. 예외처리 코드\", e)\n",
    "else:                           # 예외가 발생하지 않았을때를 위해서 'else'를 사용할 수 있다.\n",
    "    print(\"8. 예외발생 안함\")\n",
    "print(\"8. 정상종료\")"
   ]
  }
 ],
 "metadata": {
  "kernelspec": {
   "display_name": "Python 3",
   "language": "python",
   "name": "python3"
  },
  "language_info": {
   "codemirror_mode": {
    "name": "ipython",
    "version": 3
   },
   "file_extension": ".py",
   "mimetype": "text/x-python",
   "name": "python",
   "nbconvert_exporter": "python",
   "pygments_lexer": "ipython3",
   "version": "3.7.2"
  }
 },
 "nbformat": 4,
 "nbformat_minor": 2
}
