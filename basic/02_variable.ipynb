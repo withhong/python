{
 "cells": [
  {
   "cell_type": "markdown",
   "metadata": {},
   "source": [
    "# variable (변수)"
   ]
  },
  {
   "cell_type": "code",
   "execution_count": 1,
   "metadata": {},
   "outputs": [
    {
     "name": "stdout",
     "output_type": "stream",
     "text": [
      "이름은홍길동\n",
      "나이는20\n",
      "전화는 01011112222 01111112222\n"
     ]
    }
   ],
   "source": [
    "# 1. 일반적인 변수의 사용\n",
    "name = \"홍길동\"\n",
    "age = 20\n",
    "address = \"서울\"\n",
    "isMarrired = True\n",
    "height = 180\n",
    "weight = 68\n",
    "phone = [\"01011112222\", \"01111112222\"]\n",
    "\n",
    "print(\"이름은\"+name)\n",
    "print(\"나이는\"+str(age))\n",
    "print(\"전화는\", phone[0], phone[1])"
   ]
  },
  {
   "cell_type": "code",
   "execution_count": 2,
   "metadata": {},
   "outputs": [
    {
     "name": "stdout",
     "output_type": "stream",
     "text": [
      "10 10 10\n"
     ]
    }
   ],
   "source": [
    "# 2. 동시에 여러 변수 선언 가능\n",
    "n1=n2=n3=10\n",
    "print(n1, n2, n3)"
   ]
  },
  {
   "cell_type": "code",
   "execution_count": 3,
   "metadata": {},
   "outputs": [
    {
     "name": "stdout",
     "output_type": "stream",
     "text": [
      "홍길동 20 서울\n",
      "홍길동 30 서울\n"
     ]
    }
   ],
   "source": [
    "# 3. 동시에 여러 변수에 저장하는데 값이 다른 경우\n",
    "x, y, z = \"홍길동\", 20, \"서울\"\n",
    "print(x,y,z)\n",
    "\n",
    "x, y, z = \"홍길동\", 30, \"서울\"\n",
    "print(x,y,z)"
   ]
  },
  {
   "cell_type": "code",
   "execution_count": 4,
   "metadata": {},
   "outputs": [
    {
     "name": "stdout",
     "output_type": "stream",
     "text": [
      "안녕하세요. 저는 홍길동입니다.\n",
      "이름 : 홍길동\n",
      "나이 : 30\n"
     ]
    }
   ],
   "source": [
    "# 4. 대량 문자열 사용시 : ''' '''(triple)\n",
    "mesg = \"안녕하세요. 저는 홍길동입니다.\"\n",
    "print(mesg)\n",
    "mesg = '''\\\n",
    "이름 : 홍길동\n",
    "나이 : 30\\\n",
    "'''\n",
    "print(mesg)"
   ]
  },
  {
   "cell_type": "code",
   "execution_count": 5,
   "metadata": {},
   "outputs": [
    {
     "name": "stdout",
     "output_type": "stream",
     "text": [
      "60\n",
      "60\n"
     ]
    }
   ],
   "source": [
    "# 5. 여러 정수값 연산시 : '\\' 사용\n",
    "result = 10 + 20 + 30\n",
    "print(result)\n",
    "\n",
    "result = 10 + 20 + \\\n",
    "30\n",
    "print(result)"
   ]
  },
  {
   "cell_type": "code",
   "execution_count": 6,
   "metadata": {},
   "outputs": [
    {
     "name": "stdout",
     "output_type": "stream",
     "text": [
      "키워드 목록 ['False', 'None', 'True', 'and', 'as', 'assert', 'async', 'await', 'break', 'class', 'continue', 'def', 'del', 'elif', 'else', 'except', 'finally', 'for', 'from', 'global', 'if', 'import', 'in', 'is', 'lambda', 'nonlocal', 'not', 'or', 'pass', 'raise', 'return', 'try', 'while', 'with', 'yield']\n"
     ]
    }
   ],
   "source": [
    "# 6. keyword 확인\n",
    "# variable 사용시 사용되는 이름이 keyword 에 해당될 수 있는데\n",
    "# 이를 방지하기 위해 다음과 같이 미리 정의된 keyword 를 확인 가능하다.\n",
    "import keyword\n",
    "print(\"키워드 목록\", keyword.kwlist)"
   ]
  }
 ],
 "metadata": {
  "kernelspec": {
   "display_name": "Python 3",
   "language": "python",
   "name": "python3"
  },
  "language_info": {
   "codemirror_mode": {
    "name": "ipython",
    "version": 3
   },
   "file_extension": ".py",
   "mimetype": "text/x-python",
   "name": "python",
   "nbconvert_exporter": "python",
   "pygments_lexer": "ipython3",
   "version": "3.7.2"
  }
 },
 "nbformat": 4,
 "nbformat_minor": 2
}
