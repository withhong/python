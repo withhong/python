{
 "cells": [
  {
   "cell_type": "markdown",
   "metadata": {},
   "source": [
    "### cooperative routine\n",
    "    함수를 호출할때 함수내의 함수에 값을 전달하고 반환받는 방법"
   ]
  },
  {
   "cell_type": "code",
   "execution_count": 1,
   "metadata": {},
   "outputs": [
    {
     "name": "stdout",
     "output_type": "stream",
     "text": [
      "0\n",
      "1\n",
      "2\n"
     ]
    }
   ],
   "source": [
    "# 1. routine 에 값 보내기\n",
    "def my_coroutine():\n",
    "    while True:\n",
    "        a = (yield)       # routine 밖에서 값을 받아옴\n",
    "        print(a)\n",
    "\n",
    "b = my_coroutine()\n",
    "next(b)     # routine 의 yield 직전까지 실행\n",
    "\n",
    "b.send(0)   # send 를 통해 routine 에 값을 보냄\n",
    "b.send(1)   # send 를 통해 routine 에 값을 보냄\n",
    "b.send(2)   # send 를 통해 routine 에 값을 보냄"
   ]
  },
  {
   "cell_type": "code",
   "execution_count": 2,
   "metadata": {},
   "outputs": [
    {
     "name": "stdout",
     "output_type": "stream",
     "text": [
      "1\n",
      "2\n",
      "3\n"
     ]
    }
   ],
   "source": [
    "# 2. routine 값 받아오기\n",
    "def my_coroutine():\n",
    "    c = 0\n",
    "    while True:\n",
    "        a = (yield c)       # routine 밖에서 값을 받아옴\n",
    "        c = a+1\n",
    "\n",
    "b = my_coroutine()\n",
    "next(b)            # routine 의 yield 직전까지 실향\n",
    "\n",
    "print(b.send(0))   # send 를 통해 routine 에 값을 보냄\n",
    "print(b.send(1))   # send 를 통해 routine 에 값을 보냄\n",
    "print(b.send(2))   # send 를 통해 routine 에 값을 보냄"
   ]
  }
 ],
 "metadata": {
  "kernelspec": {
   "display_name": "Python 3",
   "language": "python",
   "name": "python3"
  },
  "language_info": {
   "codemirror_mode": {
    "name": "ipython",
    "version": 3
   },
   "file_extension": ".py",
   "mimetype": "text/x-python",
   "name": "python",
   "nbconvert_exporter": "python",
   "pygments_lexer": "ipython3",
   "version": "3.7.2"
  }
 },
 "nbformat": 4,
 "nbformat_minor": 2
}
