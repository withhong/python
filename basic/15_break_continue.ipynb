{
 "cells": [
  {
   "cell_type": "code",
   "execution_count": 1,
   "metadata": {},
   "outputs": [
    {
     "name": "stdout",
     "output_type": "stream",
     "text": [
      "1 hello\n",
      "2 hello\n",
      "4 hello\n",
      "5 hello\n",
      "end\n"
     ]
    }
   ],
   "source": [
    "# break : 반복문을 빠져나올때\n",
    "\n",
    "for n in range(1,6):\n",
    "    if n==3: continue\n",
    "    print(str(n), \"hello\")\n",
    "print(\"end\")"
   ]
  },
  {
   "cell_type": "code",
   "execution_count": 2,
   "metadata": {},
   "outputs": [
    {
     "name": "stdout",
     "output_type": "stream",
     "text": [
      "1 hello\n",
      "2 hello\n",
      "end\n"
     ]
    }
   ],
   "source": [
    "# continue : 반복할 문장이 여러개인 경우에 특정 문장들을 skip 할 때\n",
    "\n",
    "for n in range(1,6):\n",
    "    if n==3: break\n",
    "    print(str(n), \"hello\")\n",
    "print(\"end\")"
   ]
  }
 ],
 "metadata": {
  "kernelspec": {
   "display_name": "Python 3",
   "language": "python",
   "name": "python3"
  },
  "language_info": {
   "codemirror_mode": {
    "name": "ipython",
    "version": 3
   },
   "file_extension": ".py",
   "mimetype": "text/x-python",
   "name": "python",
   "nbconvert_exporter": "python",
   "pygments_lexer": "ipython3",
   "version": "3.7.2"
  }
 },
 "nbformat": 4,
 "nbformat_minor": 2
}
