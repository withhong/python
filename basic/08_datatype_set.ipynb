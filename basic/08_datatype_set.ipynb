{
 "cells": [
  {
   "cell_type": "code",
   "execution_count": 1,
   "metadata": {},
   "outputs": [],
   "source": [
    "# 1. set 생성 (순서 없기때문에 중복 안됨, 수정 가능, 혼합 데이터 가능)\n",
    "m = {10,7,1,2,3}\n",
    "m = {}              # 빈 set 생성 가능"
   ]
  },
  {
   "cell_type": "code",
   "execution_count": 2,
   "metadata": {},
   "outputs": [
    {
     "name": "stdout",
     "output_type": "stream",
     "text": [
      "add 함수:  {1, 2, 3, 7, 8, 10}\n",
      "add 함수:  {1, 2, 3, (77, 66), 7, 8, 10}\n"
     ]
    }
   ],
   "source": [
    "# 2. 함수\n",
    "# 추가\n",
    "m = {10,7,1,2,3}\n",
    "m.add(8)\n",
    "print(\"add 함수: \", m)\n",
    "m.add((77,66))  # add tuple\n",
    "print(\"add 함수: \", m)\n"
   ]
  },
  {
   "cell_type": "code",
   "execution_count": 3,
   "metadata": {},
   "outputs": [
    {
     "name": "stdout",
     "output_type": "stream",
     "text": [
      "discard 함수:  {1, 2, 7, 10}\n",
      "discard 함수:  {1, 2, 7, 10}\n",
      "remove 함수:  {1, 2, 7, 10}\n",
      "remove 함수:  {1, 2, 7, 10}\n"
     ]
    }
   ],
   "source": [
    "# 삭제\n",
    "# discard 는 데이터 없어도 에러안남, remove 는 에러\n",
    "m = {10,7,1,2,3}\n",
    "m.discard(3)\n",
    "print(\"discard 함수: \", m)\n",
    "m.discard(5) # 없는 값을 해도 에러안남\n",
    "print(\"discard 함수: \", m)\n",
    "\n",
    "m = {10,7,1,2,3}\n",
    "m.remove(3)\n",
    "print(\"remove 함수: \", m)\n",
    "#m.remove(5) # 없는 값을 하면 에러\n",
    "print(\"remove 함수: \", m)"
   ]
  },
  {
   "cell_type": "code",
   "execution_count": 4,
   "metadata": {},
   "outputs": [
    {
     "name": "stdout",
     "output_type": "stream",
     "text": [
      "길이:  5\n",
      "포함여부:  True\n",
      "포함여부:  False\n",
      "clear:  set()\n"
     ]
    }
   ],
   "source": [
    "# 3. 기타 함수\n",
    "m = {10,7,1,2,3}\n",
    "print(\"길이: \", len(m))\n",
    "print(\"포함여부: \", 1 in m)\n",
    "print(\"포함여부: \", 5 in m)\n",
    "m.clear()\n",
    "print(\"clear: \", m)"
   ]
  }
 ],
 "metadata": {
  "kernelspec": {
   "display_name": "Python 3",
   "language": "python",
   "name": "python3"
  },
  "language_info": {
   "codemirror_mode": {
    "name": "ipython",
    "version": 3
   },
   "file_extension": ".py",
   "mimetype": "text/x-python",
   "name": "python",
   "nbconvert_exporter": "python",
   "pygments_lexer": "ipython3",
   "version": "3.7.2"
  }
 },
 "nbformat": 4,
 "nbformat_minor": 2
}
