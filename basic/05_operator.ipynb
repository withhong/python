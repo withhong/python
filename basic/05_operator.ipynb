{
 "cells": [
  {
   "cell_type": "code",
   "execution_count": 1,
   "metadata": {},
   "outputs": [],
   "source": [
    "# 1. 산술 연산자\n",
    "print(3+2)\n",
    "print(3-2)\n",
    "print(3*2)\n",
    "print(3/2)  # 결과가 실수형\n",
    "print(3//2) # 몫\n",
    "print(3%2)  # 나머지\n",
    "print(3**2) # 지수"
   ]
  },
  {
   "cell_type": "code",
   "execution_count": 2,
   "metadata": {},
   "outputs": [],
   "source": [
    "# 2. 몫과 나머지를 함께 얻고 싶을 때 : divmod 함수 이용, tuple 형태로 결과 출력\n",
    "print(divmod(3,2))"
   ]
  },
  {
   "cell_type": "code",
   "execution_count": 3,
   "metadata": {},
   "outputs": [],
   "source": [
    "# 3. 비교 연산자 : 결과값이 True, False 로 출력\n",
    "print(3 > 2)\n",
    "m = 3 > 2\n",
    "print(m)\n",
    "print(3 >= 2)\n",
    "print(3 < 2)\n",
    "print(3 <= 2)\n",
    "print(3 != 2)\n",
    "print(3 == 2)"
   ]
  },
  {
   "cell_type": "code",
   "execution_count": 4,
   "metadata": {},
   "outputs": [
    {
     "name": "stdout",
     "output_type": "stream",
     "text": [
      "5\n",
      "1\n",
      "6\n",
      "1.5\n",
      "1\n",
      "1\n",
      "9\n"
     ]
    }
   ],
   "source": [
    "# 4. 대입 연산자\n",
    "n1=n2=n3=n4=n5=n6=n7=3\n",
    "m=2\n",
    "\n",
    "n1 += m     # n1 = n1 + m\n",
    "print(n1)\n",
    "n2 -= m     # n2 = n2 - m\n",
    "print(n2)\n",
    "n3 *= m     # n3 = n3 * m\n",
    "print(n3)\n",
    "n4 /= m     # n4 = n4 / m\n",
    "print(n4)\n",
    "n5 //= m    # n5 = n5 // m\n",
    "print(n5)\n",
    "n6 %= m     # n6 = n6 % m\n",
    "print(n6)\n",
    "n7 **= m    # n7 = n7 ** m\n",
    "print(n7)"
   ]
  },
  {
   "cell_type": "code",
   "execution_count": 5,
   "metadata": {},
   "outputs": [
    {
     "name": "stdout",
     "output_type": "stream",
     "text": [
      "h e\n",
      "10 20\n",
      "10 20\n",
      "10 20\n",
      "x y\n",
      "77 88\n"
     ]
    }
   ],
   "source": [
    "# 5. unpacking 1\n",
    "k1,k2='he'       #unpacking\n",
    "print(k1,k2)\n",
    "\n",
    "k1,k2=[10,20]    #unpacking\n",
    "print(k1,k2)\n",
    "\n",
    "k1,k2={10,20}    #unpacking\n",
    "print(k1,k2)\n",
    "\n",
    "k1,k2=(10,20)    #unpacking\n",
    "print(k1,k2)\n",
    "\n",
    "k1,k2={\"x\":77,\"y\":88}   #unpacking\n",
    "print(k1,k2)            # key 출력\n",
    "\n",
    "# to get values in dict\n",
    "m = {\"x\":77,\"y\":88}     #unpacking\n",
    "k1,k2 = m\n",
    "print(m[k1],m[k2])"
   ]
  },
  {
   "cell_type": "code",
   "execution_count": 6,
   "metadata": {},
   "outputs": [
    {
     "name": "stdout",
     "output_type": "stream",
     "text": [
      "10 [20, 30]\n",
      "[10, 20] 30\n",
      "[10, 20] 30\n"
     ]
    }
   ],
   "source": [
    "# 6. unpacking 2\n",
    "# 갯수가 일치하지 않을때\n",
    "# *는 반드시 한번만 사용해야 함\n",
    "\n",
    "#k1,k2=[10,20,30] #unpacking\n",
    "k1,*k2=[10,20,30] #unpacking\n",
    "print(k1,k2)    # 10 [20, 30]\n",
    "\n",
    "*k1,k2=[10,20,30] #unpacking\n",
    "print(k1,k2)    # [10 20] 30\n",
    "\n",
    "*k1,k2=(10,20,30) #unpacking\n",
    "print(k1,k2)    # [10 20] 30"
   ]
  },
  {
   "cell_type": "code",
   "execution_count": 7,
   "metadata": {},
   "outputs": [
    {
     "name": "stdout",
     "output_type": "stream",
     "text": [
      "False\n",
      "True\n",
      "True\n"
     ]
    }
   ],
   "source": [
    "# 7. 논리 연산자 and or not\n",
    "print(3>4 and 4==4)\n",
    "print(3>4 or 4==4)\n",
    "print(not (3>4))"
   ]
  }
 ],
 "metadata": {
  "kernelspec": {
   "display_name": "Python 3",
   "language": "python",
   "name": "python3"
  },
  "language_info": {
   "codemirror_mode": {
    "name": "ipython",
    "version": 3
   },
   "file_extension": ".py",
   "mimetype": "text/x-python",
   "name": "python",
   "nbconvert_exporter": "python",
   "pygments_lexer": "ipython3",
   "version": "3.7.2"
  }
 },
 "nbformat": 4,
 "nbformat_minor": 2
}
