{
 "cells": [
  {
   "cell_type": "code",
   "execution_count": 1,
   "metadata": {},
   "outputs": [],
   "source": [
    "# 1. 클래스 정의 (객체를 표현)\n",
    "class Student:      # class 의 이름은 관습적으로 첫글자가 대문자이다.\n",
    "    # name=\"\"       # 초기값을 주지 않는 경우 \"\" 혹은 None 으로 값을 줘도 된다.\n",
    "    name = None\n",
    "    age = 10"
   ]
  },
  {
   "cell_type": "code",
   "execution_count": 2,
   "metadata": {},
   "outputs": [
    {
     "name": "stdout",
     "output_type": "stream",
     "text": [
      "<__main__.Student object at 0x000001B4098FC6D8>\n",
      "이순신 44\n",
      "<__main__.Student object at 0x000001B4076362B0>\n",
      "유관순 18\n"
     ]
    }
   ],
   "source": [
    "# 2. 클래스 메모리에 올리는 작업: 객체 생성\n",
    "# 변수명 = 클래스명()\n",
    "s1 = Student()\n",
    "print(s1)\n",
    "s1.name = \"이순신\"\n",
    "s1.age = 44\n",
    "print(s1.name + \" \" + str(s1.age))\n",
    "\n",
    "s2 = Student()\n",
    "print(s2)\n",
    "s2.name = \"유관순\"\n",
    "s2.age = 18\n",
    "print(s2.name + \" \" + str(s2.age))"
   ]
  },
  {
   "cell_type": "code",
   "execution_count": 3,
   "metadata": {},
   "outputs": [
    {
     "name": "stdout",
     "output_type": "stream",
     "text": [
      "생성자\n",
      "생성자\n"
     ]
    }
   ],
   "source": [
    "# 3.1 생성자\n",
    "class Student:\n",
    "    name = None\n",
    "    age = 10\n",
    "\n",
    "    def __init__(self):  # 생성자 , 'self' 는 클래스내에서 선언되는 모든 함수에 들어가야 함\n",
    "        print(\"생성자\")\n",
    "\n",
    "s1 = Student()  # 객체생성 -> 생성자를 호출 init__\n",
    "s1.__init__()   # 강제로 생성자를 명시적으로 실행하여도 동일한 결과"
   ]
  },
  {
   "cell_type": "code",
   "execution_count": 4,
   "metadata": {},
   "outputs": [
    {
     "name": "stdout",
     "output_type": "stream",
     "text": [
      "생성자 홍길동 29\n",
      "홍길동 29\n",
      "생성자 이순신 44\n",
      "이순신 44\n"
     ]
    }
   ],
   "source": [
    "# 3.2 생성자의 역할\n",
    "# 인스턴스 변수를 초기화하는 역할을 할 수 있다.\n",
    "\n",
    "class Student:\n",
    "    name = None\n",
    "    age = 10\n",
    "\n",
    "    # 생성자 역할 : 인스턴스 변수를 초기화하는 역할\n",
    "    def __init__(self, n1, n2):  # 생성자\n",
    "        print(\"생성자\", n1, n2)\n",
    "        self.name = n1\n",
    "        self.age = n2\n",
    "\n",
    "# 객체 생성과 동시에 파라미터를 통해 변수 초기화\n",
    "s1 = Student(\"홍길동\", 29)\n",
    "print(s1.name, s1.age)\n",
    "s2 = Student(\"이순신\", 44)\n",
    "print(s2.name, s2.age)"
   ]
  },
  {
   "cell_type": "code",
   "execution_count": 5,
   "metadata": {},
   "outputs": [
    {
     "name": "stdout",
     "output_type": "stream",
     "text": [
      "홍길동\n",
      "89\n"
     ]
    }
   ],
   "source": [
    "# 4. 클래스 변수의 외부 접근\n",
    "# 클래스내의 변수는 '__' 를 사용하여 외부 접근을 막고 함수를 통해 변수의 값을 얻거나 설정할 수 있다.\n",
    "class Student:\n",
    "    __name = None\n",
    "    __age = None\n",
    "\n",
    "    def __init__(self, n, a):\n",
    "        if a < 100:\n",
    "            self.__age = a\n",
    "        self.__name = n\n",
    "\n",
    "    def getAge(self):\n",
    "        return self.__age\n",
    "\n",
    "    def getName(self):\n",
    "        return self.__name\n",
    "\n",
    "    def setAge(self, a):\n",
    "        self.__age = a\n",
    "\n",
    "    def setName(self, n):\n",
    "        self.__name = n\n",
    "\n",
    "s = Student(\"홍길동\", 99)\n",
    "s.setAge(89)\n",
    "print(s.getName())\n",
    "print(s.getAge())"
   ]
  },
  {
   "cell_type": "code",
   "execution_count": 6,
   "metadata": {},
   "outputs": [
    {
     "name": "stdout",
     "output_type": "stream",
     "text": [
      "홍길동\n",
      "10\n"
     ]
    }
   ],
   "source": [
    "# 5. 속성 추가 및 삭제 (동적)\n",
    "\n",
    "class Student:\n",
    "    name = \"홍길동\"\n",
    "\n",
    "s = Student()\n",
    "print(s.name)\n",
    "\n",
    "# 동적으로 멤버 추가\n",
    "s.age = 10\n",
    "print(s.age)\n",
    "\n",
    "# 동적으로 멤버 삭제\n",
    "del s.age"
   ]
  },
  {
   "cell_type": "code",
   "execution_count": 7,
   "metadata": {},
   "outputs": [
    {
     "name": "stdout",
     "output_type": "stream",
     "text": [
      "쩝쩝\n",
      "멍멍\n",
      "후다닥~\n",
      "쩝쩝\n",
      "야옹\n"
     ]
    }
   ],
   "source": [
    "# 6.1 부모 클래스와 자식 클래스\n",
    "class Pet:\n",
    "    name = None\n",
    "    age = None\n",
    "\n",
    "    def __init__(self, n, a):\n",
    "        self.name = n\n",
    "        self.age = a\n",
    "\n",
    "    def cry(self, action):\n",
    "        print(action)\n",
    "\n",
    "    def eat(self, action):\n",
    "        print(action)\n",
    "\n",
    "class Dog(Pet):  # 상속을 표현, Pet 부모클래스, Dog 자식클래스\n",
    "    def __init__(self, n, a):\n",
    "        # 부모에서 선언된 변수는 부모에서 초기화 하는게 좀 더 자연스럽다.\n",
    "        # self.name = n\n",
    "        # self.age = a\n",
    "        super().__init__(n, a)\n",
    "\n",
    "    def run(self):\n",
    "        print(\"후다닥~\")\n",
    "\n",
    "class Cat(Pet):\n",
    "    color = None  # color 는 Cat 에게만 있는 속성으로 가정\n",
    "\n",
    "    def __init__(self, n, a, c):\n",
    "        # 부모에서 선언된 변수는 부모에서 초기화 하는게 좀 더 자연스럽다.\n",
    "        # self.name = n\n",
    "        # self.age = a\n",
    "        super().__init__(n, a)\n",
    "        self.color = c\n",
    "\n",
    "d = Dog(\"바둑이\", 2)\n",
    "d.eat(\"쩝쩝\")\n",
    "d.cry(\"멍멍\")\n",
    "d.run()\n",
    "\n",
    "c = Cat(\"야옹이\", 3, \"black\")\n",
    "c.eat(\"쩝쩝\")\n",
    "c.cry(\"야옹\")"
   ]
  },
  {
   "cell_type": "code",
   "execution_count": 8,
   "metadata": {},
   "outputs": [
    {
     "name": "stdout",
     "output_type": "stream",
     "text": [
      "Dog.eat!!!!!\n"
     ]
    }
   ],
   "source": [
    "# 6.2 부모 클래스와 자식 클래스 : 오버라이딩 함수\n",
    "class Pet:\n",
    "\n",
    "    def eat(self):\n",
    "        print(\"Pet.eat\")\n",
    "\n",
    "class Dog(Pet):\n",
    "\n",
    "    # 부모의 함수를 자식이 재정의 : 오버라이딩 함수 (overriding function)\n",
    "    # 목적 : 재사용\n",
    "    def eat(self):\n",
    "        print(\"Dog.eat!!!!!\")\n",
    "\n",
    "d = Dog()\n",
    "d.eat()"
   ]
  },
  {
   "cell_type": "code",
   "execution_count": 9,
   "metadata": {},
   "outputs": [
    {
     "name": "stdout",
     "output_type": "stream",
     "text": [
      "다중 상속: 홍길동\t10\n"
     ]
    }
   ],
   "source": [
    "# 6.3 부모 클래스와 자식 클래스 : 다중 상속 가능 (자바는 단일 상속)\n",
    "class Animal:\n",
    "    name=\"홍길동\"\n",
    "\n",
    "class Person:\n",
    "    age=10\n",
    "\n",
    "class Man(Animal, Person):  # 다중 상속\n",
    "    pass\n",
    "\n",
    "m=Man()\n",
    "print(\"다중 상속: \" + m.name+\"\\t\"+str(m.age))"
   ]
  },
  {
   "cell_type": "code",
   "execution_count": 10,
   "metadata": {},
   "outputs": [
    {
     "name": "stdout",
     "output_type": "stream",
     "text": [
      "variable : info\n",
      "variable : child\n",
      "variable : parent\n"
     ]
    }
   ],
   "source": [
    "# 6.3 부모 클래스와 자식 클래스 : 변수 표현\n",
    "# 변수명\n",
    "# self.변수명\n",
    "# super().변수명\n",
    "\n",
    "class Parent:\n",
    "    name=\"parent\"\n",
    "\n",
    "class Child(Parent):\n",
    "    name=\"child\"\n",
    "\n",
    "    def info(self):\n",
    "        name=\"info\"\n",
    "        print(\"variable :\", name)\n",
    "        print(\"variable :\", self.name)\n",
    "        print(\"variable :\", super().name)\n",
    "\n",
    "c = Child()\n",
    "c.info()"
   ]
  },
  {
   "cell_type": "code",
   "execution_count": 11,
   "metadata": {},
   "outputs": [
    {
     "name": "stdout",
     "output_type": "stream",
     "text": [
      "Bird.takeoff\n",
      "Bird.fly\n",
      "Bird.land\n",
      "Airplane.takeoff\n",
      "Airplane.fly\n",
      "Airplane.land\n"
     ]
    }
   ],
   "source": [
    "# 6.4 부모 클래스와 자식 클래스 : 추상클래스\n",
    "# 추상 클래스 (abstrac class)\n",
    "# -> 강제할 함수(추상함수)를 정의\n",
    "# -> 추상함수는 아직 구현되지 않은 함수\n",
    "# -> 추상 클래스는 객체 생성 불가\n",
    "# -> 추상 클래스를 상속받은 자식 클래스를 이용하여 추상 클래스에 있는 함수 이용 가능\n",
    "#     (단, 추상클래스의 추상메소드를 반드시 재정의(오버라이딩) 해야한다.)\n",
    "# 목적 : 여러 클래스들안의 메서드를 강제해서 통일성\n",
    "\n",
    "from abc import *\n",
    "\n",
    "class Flyer(metaclass=ABCMeta):\n",
    "\n",
    "    @abstractmethod\n",
    "    def takeoff(self):\n",
    "        pass\n",
    "\n",
    "    @abstractmethod\n",
    "    def fly(self):\n",
    "        pass\n",
    "\n",
    "    @abstractmethod\n",
    "    def land(self):\n",
    "        pass\n",
    "\n",
    "# f = Flyer()    # 객체 생성 안됨\n",
    "\n",
    "class Bird(Flyer):\n",
    "    def takeoff(self):\n",
    "        print(\"Bird.takeoff\")\n",
    "\n",
    "    def fly(self):\n",
    "        print(\"Bird.fly\")\n",
    "\n",
    "    def land(self):\n",
    "        print(\"Bird.land\")\n",
    "\n",
    "class Airplane(Flyer):\n",
    "    def takeoff(self):\n",
    "        print(\"Airplane.takeoff\")\n",
    "\n",
    "    def fly(self):\n",
    "        print(\"Airplane.fly\")\n",
    "\n",
    "    def land(self):\n",
    "        print(\"Airplane.land\")\n",
    "\n",
    "b = Bird()\n",
    "b.takeoff()\n",
    "b.fly()\n",
    "b.land()\n",
    "\n",
    "a = Airplane()\n",
    "a.takeoff()\n",
    "a.fly()\n",
    "a.land()"
   ]
  }
 ],
 "metadata": {
  "kernelspec": {
   "display_name": "Python 3",
   "language": "python",
   "name": "python3"
  },
  "language_info": {
   "codemirror_mode": {
    "name": "ipython",
    "version": 3
   },
   "file_extension": ".py",
   "mimetype": "text/x-python",
   "name": "python",
   "nbconvert_exporter": "python",
   "pygments_lexer": "ipython3",
   "version": "3.7.2"
  }
 },
 "nbformat": 4,
 "nbformat_minor": 2
}
