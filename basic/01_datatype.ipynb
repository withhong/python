{
 "cells": [
  {
   "cell_type": "markdown",
   "metadata": {},
   "source": [
    "# data type\n",
    "### python 은 다른 언어의 int, float, bool, str 처럼 특별히 지정해서 data type 을 정의하지 않아도 된다. 실행하면서 data type 을 인식한다.\n",
    "\n",
    "### 기본형 - 문자(string), 수치(정수(int), 실수(float)), 논리(bool)\n",
    "### 집합형 - list, set, tuple, dict"
   ]
  },
  {
   "cell_type": "code",
   "execution_count": 1,
   "metadata": {},
   "outputs": [
    {
     "name": "stdout",
     "output_type": "stream",
     "text": [
      "문자열 타입\n",
      "hello\n",
      "hello\n",
      "hello\n",
      "hello\n"
     ]
    }
   ],
   "source": [
    "# 1. 문자열\n",
    "print(\"문자열 타입\")\n",
    "print(\"hello\")\n",
    "print('hello')\n",
    "print('''hello''')\n",
    "print(\"\"\"hello\"\"\")"
   ]
  },
  {
   "cell_type": "code",
   "execution_count": 2,
   "metadata": {},
   "outputs": [
    {
     "name": "stdout",
     "output_type": "stream",
     "text": [
      "'\n",
      "\"\n",
      "hello\tworld\n",
      "hello\n",
      "world\n",
      "c:\\temp\n"
     ]
    }
   ],
   "source": [
    "# 2. escape 문자\n",
    "print('\\'')\n",
    "print('\\\"')\n",
    "print(\"hello\\tworld\")\n",
    "print(\"hello\\nworld\")\n",
    "print(\"c:\\\\temp\")"
   ]
  },
  {
   "cell_type": "code",
   "execution_count": 3,
   "metadata": {},
   "outputs": [
    {
     "name": "stdout",
     "output_type": "stream",
     "text": [
      "\\'\n",
      "\\\"\n",
      "hello\\tworld\n",
      "hello\\nworld\n",
      "c:\\\\temp\n"
     ]
    }
   ],
   "source": [
    "# 3. raw string : escape 문자 비활성화\n",
    "print(r'\\'')\n",
    "print(r'\\\"')\n",
    "print(r\"hello\\tworld\")\n",
    "print(r\"hello\\nworld\")\n",
    "print(r\"c:\\\\temp\")"
   ]
  },
  {
   "cell_type": "code",
   "execution_count": 4,
   "metadata": {},
   "outputs": [
    {
     "name": "stdout",
     "output_type": "stream",
     "text": [
      "AB\n",
      "AB\n",
      "A10\n",
      "A 10\n",
      "A10\n"
     ]
    }
   ],
   "source": [
    "# 4. 문자열 연결\n",
    "print(\"A\"+\"B\")\n",
    "str_A = \"A\"\n",
    "str_B = \"B\"\n",
    "print(str_A + str_B)\n",
    "#print(\"A\"+10)      # 문자와 숫자가 바로 연결될 수는 없음\n",
    "print(\"A\"+str(10))  # 숫자를 문자로 바꾼 후 에 연결 가능\n",
    "print(\"A\",10)\n",
    "print(\"A\",10,sep=\"\")"
   ]
  },
  {
   "cell_type": "code",
   "execution_count": 5,
   "metadata": {},
   "outputs": [
    {
     "name": "stdout",
     "output_type": "stream",
     "text": [
      "1324349833493434394830\n",
      "100000000\n",
      "3.24\n",
      "0b1000 8 8\n",
      "0o10 8 8\n",
      "0x10 16 16\n"
     ]
    }
   ],
   "source": [
    "# 5. 수치 데이터\n",
    "print(1324349833493434394830) # 메모리가 허락하는 한 길이 제한이 없음\n",
    "print(100_000_000)            # 가독성을 위해 '_' 사용가능\n",
    "print(3.24)                   # 실수형\n",
    "bin_value = 0b1000            # 2진수\n",
    "print(bin(bin_value), bin_value, int(bin_value))\n",
    "oct_value = 0o10              # 8진수\n",
    "print(oct(oct_value), oct_value, int(oct_value))\n",
    "hex_value = 0x10              # 16진수\n",
    "print(hex(hex_value), hex_value, int(hex_value))"
   ]
  },
  {
   "cell_type": "code",
   "execution_count": 6,
   "metadata": {},
   "outputs": [
    {
     "name": "stdout",
     "output_type": "stream",
     "text": [
      "True\n",
      "False\n"
     ]
    }
   ],
   "source": [
    "# 6. 논리 데이터\n",
    "print(True)\n",
    "print(False)"
   ]
  },
  {
   "cell_type": "code",
   "execution_count": 7,
   "metadata": {},
   "outputs": [
    {
     "name": "stdout",
     "output_type": "stream",
     "text": [
      "[10, 20, 30]\n",
      "[10, 20, 3.0]\n",
      "[10, 20, 'A']\n"
     ]
    }
   ],
   "source": [
    "# 7. list : 순서 있고 중복 허용, 수정 가능, 혼합 데이터 가능\n",
    "print([10,20,30])\n",
    "print([10,20,3.0])\n",
    "print([10,20,\"A\"])"
   ]
  },
  {
   "cell_type": "code",
   "execution_count": 8,
   "metadata": {},
   "outputs": [
    {
     "name": "stdout",
     "output_type": "stream",
     "text": [
      "{10, 20, 30}\n",
      "{10, 20, 30}\n",
      "{10, 3.0, 20, 'A'}\n"
     ]
    }
   ],
   "source": [
    "# 8. set : 순서 없기 때문에 중복 안됨, 수정 가능, 혼합 데이터 가능\n",
    "print({10,20,30})\n",
    "print({10,20,30,10})\n",
    "print({10,20,3.0, 'A'}) # 순서가 없어서 랜덤하게 출력 (실행할때마다)"
   ]
  },
  {
   "cell_type": "code",
   "execution_count": 9,
   "metadata": {},
   "outputs": [
    {
     "name": "stdout",
     "output_type": "stream",
     "text": [
      "(10, 20, 30)\n",
      "(10, 20, 30, 10)\n",
      "(10, 20, 3.0, 'A')\n"
     ]
    }
   ],
   "source": [
    "# 9. tuple : 순서 있고 수정 안됨, 중복 가능, 혼합 데이터 가능\n",
    "print((10,20,30))\n",
    "print((10,20,30,10))\n",
    "print((10,20,3.0, 'A'))"
   ]
  },
  {
   "cell_type": "code",
   "execution_count": 10,
   "metadata": {},
   "outputs": [
    {
     "name": "stdout",
     "output_type": "stream",
     "text": [
      "{'name': 'AAA', 'age': 20, 'address': '서울'}\n",
      "{'name': 'BBB', 'age': 20, 'address': '서울'}\n"
     ]
    }
   ],
   "source": [
    "# 10. dict : 'key', 'value' 쌍으로 - map 계열 (search 가 빠름) - JSON 형태\n",
    "# 순서 없음, 중복되면 뒤에 있는 것이 출력\n",
    "# {\"key\":\"value\"}\n",
    "print({\"name\":\"AAA\", \"age\":20, \"address\":\"서울\"})\n",
    "print({\"name\":\"AAA\", \"age\":20, \"address\":\"서울\", \"name\":\"BBB\"})"
   ]
  },
  {
   "cell_type": "code",
   "execution_count": 11,
   "metadata": {},
   "outputs": [
    {
     "name": "stdout",
     "output_type": "stream",
     "text": [
      "10 <class 'int'>\n",
      "홍길동 <class 'str'>\n",
      "3.14 <class 'float'>\n",
      "True <class 'bool'>\n",
      "[10, 20, 30] <class 'list'>\n",
      "{10, 20, 30} <class 'set'>\n",
      "(10, 20, 30) <class 'tuple'>\n",
      "{'key': 'value'} <class 'dict'>\n"
     ]
    }
   ],
   "source": [
    "# 11. 데이터 타입 정리\n",
    "\n",
    "n1 = 10\n",
    "n2 = \"홍길동\"\n",
    "n3 = 3.14\n",
    "n4 = True\n",
    "n5 = [10,20,30]\n",
    "n6 = {10,20,30}\n",
    "n7 = (10,20,30)\n",
    "n8 = {\"key\":\"value\"}\n",
    "\n",
    "print (n1, type(n1))\n",
    "print (n2, type(n2))\n",
    "print (n3, type(n3))\n",
    "print (n4, type(n4))\n",
    "print (n5, type(n5))\n",
    "print (n6, type(n6))\n",
    "print (n7, type(n7))\n",
    "print (n8, type(n8))"
   ]
  }
 ],
 "metadata": {
  "kernelspec": {
   "display_name": "Python 3",
   "language": "python",
   "name": "python3"
  },
  "language_info": {
   "codemirror_mode": {
    "name": "ipython",
    "version": 3
   },
   "file_extension": ".py",
   "mimetype": "text/x-python",
   "name": "python",
   "nbconvert_exporter": "python",
   "pygments_lexer": "ipython3",
   "version": "3.7.2"
  }
 },
 "nbformat": 4,
 "nbformat_minor": 2
}
