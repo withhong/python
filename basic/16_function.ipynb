{
 "cells": [
  {
   "cell_type": "markdown",
   "metadata": {},
   "source": [
    "## 프로그램 특징\n",
    "    정적 : 변수\n",
    "    동적 : 데이터 조작처리 등 ... -> 함수(메소드)\n",
    "\n",
    "## 함수의 종류\n",
    "    사용자 정의 함수\n",
    "    시스템 정의 함수 : 시스템이 미리 만든 함수 (range, str, int, ...)\n",
    "\n",
    "## 함수의 특징\n",
    "    함수는 반드시 호출해야 실행된다. 함수명()\n",
    "    함수영역의 작업이 끝나면 반드시 돌아온다. (return) return 은 일반적으로 생략을 많이 함\n",
    "    함수 기능 정의가 아직 안되어 있는 경우에는 pass 를 이용한다.\n",
    "        def my_func():\n",
    "            pass\n",
    "\n",
    "## 함수의 형태\n",
    "    1. 파라미터(혹은 argument) 없고, 리턴값 없는 형태\n",
    "    2. 파라미터(혹은 argument) 있고, 리턴값 없는 형태\n",
    "    3. 파라미터(혹은 argument) 없고, 리턴값 있는 형태\n",
    "    4. 파라미터(혹은 argument) 있고, 리턴값 있는 형태"
   ]
  },
  {
   "cell_type": "code",
   "execution_count": 1,
   "metadata": {},
   "outputs": [
    {
     "name": "stdout",
     "output_type": "stream",
     "text": [
      "함수 호출 전\n",
      "hello\n",
      "함수 호출 후\n"
     ]
    }
   ],
   "source": [
    "# 1. 파라미터 없고, 리턴값 없는 형태\n",
    "\n",
    "def my_func():\n",
    "    print(\"hello\")\n",
    "    #return  # 생략 가능\n",
    "\n",
    "print(\"함수 호출 전\")\n",
    "my_func()   # 함수 호출\n",
    "print(\"함수 호출 후\")"
   ]
  },
  {
   "cell_type": "code",
   "execution_count": 2,
   "metadata": {},
   "outputs": [
    {
     "name": "stdout",
     "output_type": "stream",
     "text": [
      "함수 호출 전\n",
      "hello 10\n",
      "함수 호출 후\n"
     ]
    }
   ],
   "source": [
    "# 2. 파라미터 있고, 리턴값 없는 형태\n",
    "# 함수 호출시 파라미터 갯수와 파라미터 변수 갯수가 반드시 일치해야 한다.\n",
    "\n",
    "def my_func(n): # worker 함수 : 실제 일을 하는 함수\n",
    "    print(\"hello\", n)\n",
    "    #return\n",
    "\n",
    "print(\"함수 호출 전\")\n",
    "my_func(10)     # caller 함수\n",
    "print(\"함수 호출 후\")"
   ]
  },
  {
   "cell_type": "code",
   "execution_count": 3,
   "metadata": {},
   "outputs": [
    {
     "name": "stdout",
     "output_type": "stream",
     "text": [
      "함수 호출 전\n",
      "hello\n",
      "100\n",
      "함수 호출 후\n",
      "#--------------------#\n",
      "함수 호출 전\n",
      "hello\n",
      "100 200\n",
      "함수 호출 후\n"
     ]
    }
   ],
   "source": [
    "# 3. 파라미터 없고, 리턴값 있는 형태\n",
    "# return 값이 없을 때는 return 생략가능\n",
    "\n",
    "def my_func():\n",
    "    print(\"hello\")\n",
    "    return 100\n",
    "\n",
    "print(\"함수 호출 전\")\n",
    "b = my_func()\n",
    "print(b)\n",
    "print(\"함수 호출 후\")\n",
    "\n",
    "print(\"#\"+\"-\"*20+\"#\")\n",
    "\n",
    "# 일반적인 프로그램 언어에서 리턴값은 하나이지만 파이썬에서는 여러개도 가능\n",
    "\n",
    "def my_func():\n",
    "    print(\"hello\")\n",
    "    return 100,200\n",
    "\n",
    "print(\"함수 호출 전\")\n",
    "a, b = my_func()\n",
    "print(a,b)\n",
    "print(\"함수 호출 후\")"
   ]
  },
  {
   "cell_type": "code",
   "execution_count": 4,
   "metadata": {},
   "outputs": [
    {
     "name": "stdout",
     "output_type": "stream",
     "text": [
      "함수 호출 전\n",
      "hello\n",
      "30\n",
      "함수 호출 후\n"
     ]
    }
   ],
   "source": [
    "# 4. 파라미터 있고, 리턴값 있는 형태\n",
    "\n",
    "def my_func(n1,n2):\n",
    "    print(\"hello\")\n",
    "    return n1+n2\n",
    "\n",
    "print(\"함수 호출 전\")\n",
    "a = my_func(10,20)\n",
    "print(a)\n",
    "print(\"함수 호출 후\")"
   ]
  },
  {
   "cell_type": "code",
   "execution_count": 5,
   "metadata": {},
   "outputs": [
    {
     "name": "stdout",
     "output_type": "stream",
     "text": [
      "함수 호출 전\n",
      "홀수\n",
      "함수 호출 후\n"
     ]
    }
   ],
   "source": [
    "# 5. return : 돌아올때 사용, 일반적인 결과값 return\n",
    "def my_func(n):\n",
    "    mesg = \"홀수\" # 초기값을 주는 형태\n",
    "    if n%2 == 0:\n",
    "        mesg = \"짝수\"\n",
    "    return mesg\n",
    "\n",
    "print(\"함수 호출 전\")\n",
    "a = my_func(7)\n",
    "print(a)\n",
    "print(\"함수 호출 후\")"
   ]
  },
  {
   "cell_type": "code",
   "execution_count": 6,
   "metadata": {},
   "outputs": [
    {
     "name": "stdout",
     "output_type": "stream",
     "text": [
      "함수 호출 전\n",
      "hello1\n",
      "함수 호출 후\n",
      "함수 호출 전\n",
      "hello1\n",
      "hello2\n",
      "함수 호출 후\n"
     ]
    }
   ],
   "source": [
    "# 6. return : 함수 실행시 중간에 돌아올때도 사용 가능\n",
    "def my_func(n):\n",
    "    print(\"hello1\")\n",
    "    if n==10 : return\n",
    "    print(\"hello2\")\n",
    "\n",
    "print(\"함수 호출 전\")\n",
    "my_func(10)\n",
    "print(\"함수 호출 후\")\n",
    "\n",
    "print(\"함수 호출 전\")\n",
    "my_func(100)\n",
    "print(\"함수 호출 후\")"
   ]
  },
  {
   "cell_type": "code",
   "execution_count": 7,
   "metadata": {},
   "outputs": [
    {
     "name": "stdout",
     "output_type": "stream",
     "text": [
      "<function my_func at 0x000001E1897A72F0>\n",
      "<function my_func at 0x000001E1897A72F0>\n",
      "my_func\n",
      "my_func\n"
     ]
    }
   ],
   "source": [
    "# 7. 일급객체 (first-class) - 함수는 데이터로 인식, 즉 데이터가 위치할 수 있는 곳에 사용될 수 있음\n",
    "# (1) 함수를 변수에 저장가능\n",
    "# (2) 함수호출시 파라미터값으로 함수 사용 가능\n",
    "# (3) 함수호출시 함수의 리턴값으로 함수 사용 가능\n",
    "\n",
    "# 7.1 함수를 변수에 저장가능\n",
    "def my_func():\n",
    "    print(\"my_func\")\n",
    "\n",
    "print(my_func)\n",
    "n = my_func     # 함수를 변수에 지정\n",
    "print(n)\n",
    "\n",
    "my_func()       # 함수 호출\n",
    "n()             # 함수 호출"
   ]
  },
  {
   "cell_type": "code",
   "execution_count": 8,
   "metadata": {},
   "outputs": [
    {
     "name": "stdout",
     "output_type": "stream",
     "text": [
      "my_func_a\n",
      "my_func_b\n"
     ]
    }
   ],
   "source": [
    "# 7.2 일급객체 : 함수호출시 파라미터값으로 함수 사용 가능\n",
    "# call back 함수 : 이벤트 처리시 주로 사용\n",
    "# call back : 사용자가 호출한 함수가 아니고 시스템이 호출한 함수\n",
    "def my_func_a():\n",
    "    print(\"my_func_a\")\n",
    "\n",
    "def my_func_b():\n",
    "    print(\"my_func_b\")\n",
    "\n",
    "def my_func_c(n):\n",
    "    n()  # 시스템 호출\n",
    "\n",
    "my_func_c(my_func_a)  # 사용자 호출\n",
    "my_func_c(my_func_b)  # 사용자 호출"
   ]
  },
  {
   "cell_type": "code",
   "execution_count": 9,
   "metadata": {},
   "outputs": [
    {
     "name": "stdout",
     "output_type": "stream",
     "text": [
      "my_func_a\n"
     ]
    }
   ],
   "source": [
    "# 7.3 일급객체 : 함수호출시 함수의 리턴값으로 함수 사용 가능\n",
    "def my_func_a():\n",
    "    print(\"my_func_a\")\n",
    "\n",
    "def my_func_b():\n",
    "    return my_func_a\n",
    "\n",
    "m = my_func_b()\n",
    "m()"
   ]
  },
  {
   "cell_type": "code",
   "execution_count": 10,
   "metadata": {},
   "outputs": [
    {
     "name": "stdout",
     "output_type": "stream",
     "text": [
      "전역변수 m 함수안:10\n",
      "지역변수 n 함수안:100\n",
      "전역변수 m 함수밖:10\n"
     ]
    }
   ],
   "source": [
    "# 8. 함수와 변수\n",
    "m = 10  # 전역 변수 (함수안과밖에서 사용 가능)\n",
    "\n",
    "def my_func():\n",
    "    n = 100  # 지역 변수 (함수안에서만 사용 가능)\n",
    "    print(\"전역변수 m 함수안:\"+ str(m))\n",
    "    print(\"지역변수 n 함수안:\"+ str(n))\n",
    "\n",
    "my_func()\n",
    "print(\"전역변수 m 함수밖:\"+ str(m))\n",
    "#print(\"지역변수 n 함수밖:\"+ str(n))   # 지역 변수는 함수밖에서 사용 안됨"
   ]
  },
  {
   "cell_type": "code",
   "execution_count": 11,
   "metadata": {},
   "outputs": [
    {
     "name": "stdout",
     "output_type": "stream",
     "text": [
      "10\n"
     ]
    }
   ],
   "source": [
    "# 9. 함수와 파라미터\n",
    "\n",
    "# 9.1 함수 호출시 반드시 갯수가 일치\n",
    "def my_func(n):\n",
    "    print(n)\n",
    "\n",
    "my_func(10)"
   ]
  },
  {
   "cell_type": "code",
   "execution_count": 12,
   "metadata": {},
   "outputs": [
    {
     "name": "stdout",
     "output_type": "stream",
     "text": [
      "100 200\n"
     ]
    }
   ],
   "source": [
    "# 9.2 함수 호출시 파라미터값에 디폴트값을 줄 수 있다.\n",
    "def my_func(n1, n2=200):\n",
    "    print(n1, n2)\n",
    "\n",
    "my_func(100)"
   ]
  },
  {
   "cell_type": "code",
   "execution_count": 13,
   "metadata": {},
   "outputs": [
    {
     "name": "stdout",
     "output_type": "stream",
     "text": [
      "200 100\n",
      "200 100\n"
     ]
    }
   ],
   "source": [
    "# 9.3 함수 호출시 파라미터값 맵핑 방법\n",
    "def my_func(n1, n2):\n",
    "    print(n1, n2)\n",
    "\n",
    "my_func(200, 100)           # 순서로 맵핑\n",
    "my_func(n2=100, n1=200)     # 이름으로 맵핑"
   ]
  },
  {
   "cell_type": "code",
   "execution_count": 14,
   "metadata": {},
   "outputs": [
    {
     "name": "stdout",
     "output_type": "stream",
     "text": [
      "('A', 'B')\n",
      "값:A\n",
      "값:B\n",
      "('A', 'B', 'C')\n",
      "값:A\n",
      "값:B\n",
      "값:C\n",
      "('A',)\n",
      "값:A\n"
     ]
    }
   ],
   "source": [
    "# 9.4 파라미터 갯수가 일치하지 않는 경우 : 가변인자\n",
    "# 파라미터 갯수를 정확히 모를때 유용\n",
    "def my_func(*n):\n",
    "    print(n)  # tuple 로 처리 (packing)\n",
    "    for i in n:\n",
    "        print(\"값:\" + i)\n",
    "\n",
    "my_func(\"A\", \"B\")\n",
    "my_func(\"A\", \"B\", \"C\")\n",
    "my_func(\"A\")"
   ]
  },
  {
   "cell_type": "code",
   "execution_count": 15,
   "metadata": {},
   "outputs": [
    {
     "name": "stdout",
     "output_type": "stream",
     "text": [
      "A1 ('B1',)\n",
      "값>>>:B1\n",
      "A2 ('B2', 'C2')\n",
      "값>>>:B2\n",
      "값>>>:C2\n",
      "A3 ()\n"
     ]
    }
   ],
   "source": [
    "# 9.5 packing\n",
    "def my_func(x, *n):\n",
    "    print(x, n)  # tuple 로 처리 (packing)\n",
    "    for i in n:\n",
    "        print(\"값>>>:\" + i)\n",
    "\n",
    "my_func(\"A1\", \"B1\")\n",
    "my_func(\"A2\", \"B2\", \"C2\")\n",
    "my_func(\"A3\")"
   ]
  },
  {
   "cell_type": "code",
   "execution_count": 16,
   "metadata": {},
   "outputs": [
    {
     "name": "stdout",
     "output_type": "stream",
     "text": [
      "9 8 7\n",
      "8 9 7\n",
      "9 8 7\n",
      "9 8 (7,)\n",
      "5 6 (7, 8, 9)\n",
      "9 8 (7, 10, 20, 30)\n"
     ]
    }
   ],
   "source": [
    "# 9.6 * 이용한 집합자료를 unpacking 해서 따로따로 변수 저장 가능\n",
    "def my_func(n, m, p):\n",
    "    print(n, m, p)\n",
    "\n",
    "my_func(*[9, 8, 7])  # list\n",
    "my_func(*{9, 8, 7})  # set\n",
    "my_func(*(9, 8, 7))  # tuple\n",
    "\n",
    "def my_func(n, m, *p):\n",
    "    print(n, m, p)\n",
    "\n",
    "my_func(*[9, 8, 7])             # list\n",
    "my_func(*{9, 8, 7, 6, 5})       # set\n",
    "my_func(*(9, 8, 7, 10, 20, 30)) # tuple"
   ]
  },
  {
   "cell_type": "code",
   "execution_count": 17,
   "metadata": {},
   "outputs": [
    {
     "name": "stdout",
     "output_type": "stream",
     "text": [
      "{'name': '홍길동', 'age': '20'}\n",
      "10 20 {'name': '홍길동', 'age': '20'}\n"
     ]
    }
   ],
   "source": [
    "# 9.7 dict 의 packing : **\n",
    "\n",
    "def my_func(**n):\n",
    "    print(n)\n",
    "\n",
    "my_func(name=\"홍길동\", age=\"20\")  # key:value 쌍으로 dict 로 packing\n",
    "\n",
    "def my_func(x, y, **n):\n",
    "    print(x, y, n)\n",
    "\n",
    "my_func(10, 20, name=\"홍길동\", age=\"20\")  # key:value 쌍으로 dict 로 packing"
   ]
  }
 ],
 "metadata": {
  "kernelspec": {
   "display_name": "Python 3",
   "language": "python",
   "name": "python3"
  },
  "language_info": {
   "codemirror_mode": {
    "name": "ipython",
    "version": 3
   },
   "file_extension": ".py",
   "mimetype": "text/x-python",
   "name": "python",
   "nbconvert_exporter": "python",
   "pygments_lexer": "ipython3",
   "version": "3.7.2"
  }
 },
 "nbformat": 4,
 "nbformat_minor": 2
}
