{
 "cells": [
  {
   "cell_type": "markdown",
   "metadata": {},
   "source": [
    "## 정규 표현식 (regexp)\n",
    "\n",
    "import re   # 파이썬에서 정규 표현식 사용을 도와주는 모듈, 기본 라이브러리\n",
    "\n",
    "### 1. 문자열 검색\n",
    "    (1) match() : 문자열의 처음부터 정규식과 매치\n",
    "    (2) search() : 문자열 전체를 검색하여 정규식과 매치\n",
    "    (3) findall() : 정규식과 매치되는 모든 문자열을 리스트로 반환\n",
    "    (4) finditer() : 정규식과 매치되는 모든 문자열을 iterator 로 반환\n",
    "\n",
    "    매치된 결과는 객체로 반환하기에 문자열을 반환하기 위한 별도의 함수가 필요\n",
    "    group() : 매치된 문자열 반환\n",
    "    start() : 매치된 문자열의 시작 위치\n",
    "    end() : 매치된 문자열의 끝 위치\n",
    "    span() : 매치된 문자열을 튜플로 반환 (시작, 끝)\n",
    "\n",
    "    match 와 search 의 차이는 match 는 문자열의 처음부터 매치시키기 때문에 패턴이 문자열의 처음부터 매치되어야 한다."
   ]
  },
  {
   "cell_type": "code",
   "execution_count": 9,
   "metadata": {},
   "outputs": [
    {
     "name": "stdout",
     "output_type": "stream",
     "text": [
      "문자열 검색 (match) : <re.Match object; span=(0, 1), match='H'>\n",
      "문자열 검색 (match) : <re.Match object; span=(0, 5), match='Hello'>\n",
      "문자열 검색 (match) : None\n",
      "문자열 검색 (match) : None\n",
      "문자열 검색 (match) : True\n",
      "문자열 검색 (match) : True\n",
      "문자열 검색 (match) : None\n",
      "문자열 검색 (match) : None\n"
     ]
    }
   ],
   "source": [
    "import re\n",
    "\n",
    "# 1.1 match()\n",
    "# 찾으면 객체가 반환되고 못찾으면 None 이 반환\n",
    "print(\"문자열 검색 (match) :\", re.match(\"H\",     \"Hello World!\"))\n",
    "print(\"문자열 검색 (match) :\", re.match(\"Hello\", \"Hello World!\"))\n",
    "print(\"문자열 검색 (match) :\", re.match(\"Hi\",    \"Hello World!\"))\n",
    "print(\"문자열 검색 (match) :\", re.match(\"World\",  \"Hello World!\"))  # match 는 문자열의 처음부터 검색하기에 패턴이 처음부터 매치되어야 한다.\n",
    "\n",
    "# 문자열을 compile 해두고 이를 사용해서 할 수도 있다.\n",
    "pat1 = re.compile(\"H\")\n",
    "pat2 = re.compile(\"Hello\")\n",
    "pat3 = re.compile(\"Hi\")\n",
    "pat4 = re.compile(\"World\")\n",
    "\n",
    "# print(\"문자열 검색 (match) :\", pat1.match(\"Hello World!\"))\n",
    "# print(\"문자열 검색 (match) :\", pat2.match(\"Hello World!\"))\n",
    "# print(\"문자열 검색 (match) :\", pat3.match(\"Hello World!\"))\n",
    "# print(\"문자열 검색 (match) :\", pat4.match(\"Hello World!\"))\n",
    "\n",
    "print(\"문자열 검색 (match) : True\") if pat1.match(\"Hello World!\") else print(\"문자열 검색 (match) : None\")\n",
    "print(\"문자열 검색 (match) : True\") if pat2.match(\"Hello World!\") else print(\"문자열 검색 (match) : None\")\n",
    "print(\"문자열 검색 (match) : True\") if pat3.match(\"Hello World!\") else print(\"문자열 검색 (match) : None\")\n",
    "print(\"문자열 검색 (match) : True\") if pat4.match(\"Hello World!\") else print(\"문자열 검색 (match) : None\")"
   ]
  },
  {
   "cell_type": "code",
   "execution_count": 10,
   "metadata": {},
   "outputs": [
    {
     "name": "stdout",
     "output_type": "stream",
     "text": [
      "문자열 검색 (search) : <re.Match object; span=(0, 1), match='H'>\n",
      "문자열 검색 (search) : <re.Match object; span=(0, 5), match='Hello'>\n",
      "문자열 검색 (search) : None\n",
      "문자열 검색 (search) : <re.Match object; span=(6, 11), match='World'>\n",
      "문자열 검색 (search) : True\n",
      "문자열 검색 (search) : True\n",
      "문자열 검색 (search) : None\n",
      "문자열 검색 (search) : True\n"
     ]
    }
   ],
   "source": [
    "import re\n",
    "\n",
    "# 1.2 search()\n",
    "# 찾으면 객체가 반환되고 못찾으면 None 이 반환\n",
    "print(\"문자열 검색 (search) :\", re.search(\"H\",     \"Hello World!\"))\n",
    "print(\"문자열 검색 (search) :\", re.search(\"Hello\", \"Hello World!\"))\n",
    "print(\"문자열 검색 (search) :\", re.search(\"Hi\",    \"Hello World!\"))\n",
    "print(\"문자열 검색 (search) :\", re.search(\"World\", \"Hello World!\"))\n",
    "\n",
    "# 문자열을 compile 해두고 이를 사용해서 할 수도 있다.\n",
    "pat1 = re.compile(\"H\")\n",
    "pat2 = re.compile(\"Hello\")\n",
    "pat3 = re.compile(\"Hi\")\n",
    "pat4 = re.compile(\"World\")\n",
    "\n",
    "# print(\"문자열 검색 (search) :\", pat1.search(\"Hello World!\"))\n",
    "# print(\"문자열 검색 (search) :\", pat2.search(\"Hello World!\"))\n",
    "# print(\"문자열 검색 (search) :\", pat3.search(\"Hello World!\"))\n",
    "# print(\"문자열 검색 (search) :\", pat4.search(\"Hello World!\"))\n",
    "\n",
    "print(\"문자열 검색 (search) : True\") if pat1.search(\"Hello World!\") else print(\"문자열 검색 (search) : None\")\n",
    "print(\"문자열 검색 (search) : True\") if pat2.search(\"Hello World!\") else print(\"문자열 검색 (search) : None\")\n",
    "print(\"문자열 검색 (search) : True\") if pat3.search(\"Hello World!\") else print(\"문자열 검색 (search) : None\")\n",
    "print(\"문자열 검색 (search) : True\") if pat4.search(\"Hello World!\") else print(\"문자열 검색 (search) : None\")"
   ]
  },
  {
   "cell_type": "code",
   "execution_count": 11,
   "metadata": {},
   "outputs": [
    {
     "name": "stdout",
     "output_type": "stream",
     "text": [
      "문자열 검색 (findall) : ['H', 'H']\n",
      "문자열 검색 (findall) : ['Hello', 'Hello']\n",
      "문자열 검색 (findall) : []\n",
      "문자열 검색 (findall) : ['World', 'World']\n"
     ]
    }
   ],
   "source": [
    "import re\n",
    "\n",
    "# 1.3 findall()\n",
    "pat1 = re.compile(\"H\")\n",
    "pat2 = re.compile(\"Hello\")\n",
    "pat3 = re.compile(\"Hi\")\n",
    "pat4 = re.compile(\"World\")\n",
    "\n",
    "print(\"문자열 검색 (findall) :\", pat1.findall(\"Hello World!\"*2))\n",
    "print(\"문자열 검색 (findall) :\", pat2.findall(\"Hello World!\"*2))\n",
    "print(\"문자열 검색 (findall) :\", pat3.findall(\"Hello World!\"*2))\n",
    "print(\"문자열 검색 (findall) :\", pat4.findall(\"Hello World!\"*2))"
   ]
  },
  {
   "cell_type": "code",
   "execution_count": 12,
   "metadata": {},
   "outputs": [
    {
     "name": "stdout",
     "output_type": "stream",
     "text": [
      "문자열 검색 (finditer) : <re.Match object; span=(0, 1), match='H'> H\n",
      "문자열 검색 (finditer) : <re.Match object; span=(12, 13), match='H'> H\n",
      "문자열 검색 (finditer) : <re.Match object; span=(0, 5), match='Hello'> Hello\n",
      "문자열 검색 (finditer) : <re.Match object; span=(12, 17), match='Hello'> Hello\n",
      "문자열 검색 (finditer) : <re.Match object; span=(6, 11), match='World'> World\n",
      "문자열 검색 (finditer) : <re.Match object; span=(18, 23), match='World'> World\n"
     ]
    }
   ],
   "source": [
    "import re\n",
    "\n",
    "# 1.4 finditer()\n",
    "pat1 = re.compile(\"H\")\n",
    "pat2 = re.compile(\"Hello\")\n",
    "pat3 = re.compile(\"Hi\")\n",
    "pat4 = re.compile(\"World\")\n",
    "\n",
    "for i in pat1.finditer(\"Hello World!\"*2):\n",
    "    print(\"문자열 검색 (finditer) :\", i, i.group())\n",
    "for i in pat2.finditer(\"Hello World!\"*2):\n",
    "    print(\"문자열 검색 (finditer) :\", i, i.group())\n",
    "for i in pat3.finditer(\"Hello World!\"*2):\n",
    "    print(\"문자열 검색 (finditer) :\", i, i.group())\n",
    "for i in pat4.finditer(\"Hello World!\"*2):\n",
    "    print(\"문자열 검색 (finditer) :\", i, i.group())"
   ]
  },
  {
   "cell_type": "code",
   "execution_count": 13,
   "metadata": {},
   "outputs": [
    {
     "name": "stdout",
     "output_type": "stream",
     "text": [
      "문자열 검색 (match group) : Hello\n",
      "문자열 검색 (match start) : 0\n",
      "문자열 검색 (match end) : 5\n",
      "문자열 검색 (match span) : (0, 5)\n",
      "문자열 검색 (search group) : Hello\n",
      "문자열 검색 (search start) : 0\n",
      "문자열 검색 (search end) : 5\n",
      "문자열 검색 (search span) : (0, 5)\n"
     ]
    }
   ],
   "source": [
    "import re\n",
    "\n",
    "# 1.5 group(), start(), end(), span()\n",
    "# match 된게 없으면 에러 발생\n",
    "# match, search 와 함께 사용가능\n",
    "pat2 = re.compile(\"Hello\")\n",
    "\n",
    "print(\"문자열 검색 (match group) :\", pat2.match(\"Hello World!\").group())\n",
    "print(\"문자열 검색 (match start) :\", pat2.match(\"Hello World!\").start())\n",
    "print(\"문자열 검색 (match end) :\",   pat2.match(\"Hello World!\").end())\n",
    "print(\"문자열 검색 (match span) :\",  pat2.match(\"Hello World!\").span())\n",
    "\n",
    "pat2 = re.compile(\"Hello\")\n",
    "\n",
    "print(\"문자열 검색 (search group) :\", pat2.search(\"Hello World!\"*2).group(0))\n",
    "print(\"문자열 검색 (search start) :\", pat2.search(\"Hello World!\"*2).start(0))\n",
    "print(\"문자열 검색 (search end) :\",   pat2.search(\"Hello World!\"*2).end(0))\n",
    "print(\"문자열 검색 (search span) :\",  pat2.search(\"Hello World!\"*2).span(0))"
   ]
  },
  {
   "cell_type": "code",
   "execution_count": 14,
   "metadata": {},
   "outputs": [
    {
     "name": "stdout",
     "output_type": "stream",
     "text": [
      "메타 . : None\n",
      "메타 . : <re.Match object; span=(0, 3), match='a b'>\n",
      "메타 . : <re.Match object; span=(0, 3), match='a7b'>\n"
     ]
    }
   ],
   "source": [
    "import re\n",
    "\n",
    "# 2. 메타 문자\n",
    "# . ^ $ * + ? { } [ ] \\ | ( )\n",
    "\n",
    "# .     : \\n 제외한 모든 문자\n",
    "# ^     : 패턴으로 시작\n",
    "# $     : 패턴으로 끝\n",
    "# *     : 바로 앞의 패턴이 0개 이상\n",
    "# +     : 바로 앞의 패턴이 1개 이상\n",
    "# ?     : 바로 앞의 패턴이 없거나 1개 이상\n",
    "# { }   : 패턴{숫자} 숫자만큼 패턴이 반복. 패턴{숫자1, 숫자2}\n",
    "# [ ]   : [문자] 가능한 문자들의 집합. [^문자] 없어야하는 문자들의 집합\n",
    "# \\     :\n",
    "#           \\A  : 문자열의 처음. ^ 는 라인의 처음. \\A 는 전체 문자열의 처음\n",
    "#           \\Z  : 문자열의 끝. $ 는 라인의 끝. \\Z 는 전체 문자열의 끝\n",
    "#           \\b  : 공백에 의해서 구분되는 단어 구분자\n",
    "#           \\B  : 단어 구분자 제외\n",
    "# |     : or, 여러개 중에 하나\n",
    "# ( )   : 패턴을 묶어줄때 사용. 그룹핑\n",
    "\n",
    "# 2.1 .\n",
    "# \\n 제외한 모든 문자\n",
    "pat1 = re.compile(\"a.b\")\n",
    "\n",
    "print(\"메타 . :\", pat1.search(\"abc\"))  # a 와 b 사이에 문자가 있어야 함\n",
    "print(\"메타 . :\", pat1.search(\"a b\"))\n",
    "print(\"메타 . :\", pat1.search(\"a7b\"))"
   ]
  },
  {
   "cell_type": "code",
   "execution_count": 15,
   "metadata": {},
   "outputs": [
    {
     "name": "stdout",
     "output_type": "stream",
     "text": [
      "메타 ^ : <re.Match object; span=(0, 1), match='a'>\n",
      "메타 ^ : <re.Match object; span=(0, 1), match='a'>\n",
      "메타 ^ : None\n"
     ]
    }
   ],
   "source": [
    "import re\n",
    "\n",
    "# 2.2 ^\n",
    "# 문자열의 시작이 패턴과 동일해야 함\n",
    "pat1 = re.compile(\"^a\")\n",
    "\n",
    "print(\"메타 ^ :\", pat1.search(\"abc\"))\n",
    "print(\"메타 ^ :\", pat1.search(\"a b\"))\n",
    "print(\"메타 ^ :\", pat1.search(\"7ab\"))  # a 로 시작해야 함"
   ]
  },
  {
   "cell_type": "code",
   "execution_count": 16,
   "metadata": {},
   "outputs": [
    {
     "name": "stdout",
     "output_type": "stream",
     "text": [
      "메타 $ : None\n",
      "메타 $ : <re.Match object; span=(2, 3), match='b'>\n",
      "메타 $ : <re.Match object; span=(2, 3), match='b'>\n"
     ]
    }
   ],
   "source": [
    "import re\n",
    "\n",
    "# 2.3 $\n",
    "# 문자열의 끝이 패턴과 동일해야 함\n",
    "pat1 = re.compile(\"b$\")\n",
    "\n",
    "print(\"메타 $ :\", pat1.search(\"abc\"))  # b 로 끝나야 함\n",
    "print(\"메타 $ :\", pat1.search(\"a b\"))\n",
    "print(\"메타 $ :\", pat1.search(\"a7b\"))"
   ]
  },
  {
   "cell_type": "code",
   "execution_count": 17,
   "metadata": {},
   "outputs": [
    {
     "name": "stdout",
     "output_type": "stream",
     "text": [
      "메타 * : <re.Match object; span=(0, 2), match='ac'>\n",
      "메타 * : <re.Match object; span=(0, 3), match='abc'>\n",
      "메타 * : <re.Match object; span=(0, 4), match='abbc'>\n",
      "메타 * : None\n"
     ]
    }
   ],
   "source": [
    "import re\n",
    "\n",
    "# 2.4 *\n",
    "# 바로 앞의 패턴이 0개 이상 반복\n",
    "pat1 = re.compile(\"ab*c\")\n",
    "\n",
    "print(\"메타 * :\", pat1.search(\"ac\"))\n",
    "print(\"메타 * :\", pat1.search(\"abc\"))\n",
    "print(\"메타 * :\", pat1.search(\"abbc\"))\n",
    "print(\"메타 * :\", pat1.search(\"a7c\")) # b 가 나오거나 안나오거 해야 함. 다른 문자에 대한 언급은 없음"
   ]
  },
  {
   "cell_type": "code",
   "execution_count": 18,
   "metadata": {},
   "outputs": [
    {
     "name": "stdout",
     "output_type": "stream",
     "text": [
      "메타 + : None\n",
      "메타 + : <re.Match object; span=(0, 3), match='abc'>\n",
      "메타 + : <re.Match object; span=(0, 4), match='abbc'>\n",
      "메타 + : None\n"
     ]
    }
   ],
   "source": [
    "import re\n",
    "\n",
    "# 2.5 +\n",
    "# 바로 앞의 패턴이 1개 이상 반복\n",
    "pat1 = re.compile(\"ab+c\")\n",
    "\n",
    "print(\"메타 + :\", pat1.search(\"ac\"))  # b 가 1개 이상 있어야 함\n",
    "print(\"메타 + :\", pat1.search(\"abc\"))\n",
    "print(\"메타 + :\", pat1.search(\"abbc\"))\n",
    "print(\"메타 + :\", pat1.search(\"a7c\")) # b 가 1개 이상 있어야 함"
   ]
  },
  {
   "cell_type": "code",
   "execution_count": 19,
   "metadata": {},
   "outputs": [
    {
     "name": "stdout",
     "output_type": "stream",
     "text": [
      "메타 ? : <re.Match object; span=(0, 2), match='ac'>\n",
      "메타 ? : <re.Match object; span=(0, 3), match='abc'>\n",
      "메타 ? : None\n",
      "메타 ? : None\n"
     ]
    }
   ],
   "source": [
    "import re\n",
    "\n",
    "# 2.6 ?\n",
    "# 바로 앞의 패턴이 없거나 1개 이상\n",
    "pat1 = re.compile(\"ab?c\")\n",
    "\n",
    "print(\"메타 ? :\", pat1.search(\"ac\"))\n",
    "print(\"메타 ? :\", pat1.search(\"abc\"))\n",
    "print(\"메타 ? :\", pat1.search(\"abbc\"))# b 가 없거나 1개여야 함\n",
    "print(\"메타 ? :\", pat1.search(\"a7c\")) # b 가 없거나 1개여야 함"
   ]
  },
  {
   "cell_type": "code",
   "execution_count": 20,
   "metadata": {},
   "outputs": [
    {
     "name": "stdout",
     "output_type": "stream",
     "text": [
      "메타 { } : None\n",
      "메타 { } : <re.Match object; span=(0, 3), match='abc'>\n",
      "메타 { } : None\n",
      "메타 { } : None\n"
     ]
    }
   ],
   "source": [
    "import re\n",
    "\n",
    "# 2.7 { }\n",
    "# 패턴{숫자} 숫자만큼 패턴이 반복. 패턴{숫자1, 숫자2}\n",
    "pat1 = re.compile(\"ab{1}c\")\n",
    "\n",
    "print(\"메타 { } :\", pat1.search(\"ac\"))    # b 가 1개여야 함\n",
    "print(\"메타 { } :\", pat1.search(\"abc\"))   # b 가 1개여야 함\n",
    "print(\"메타 { } :\", pat1.search(\"abbc\"))  # b 가 1개여야 함\n",
    "print(\"메타 { } :\", pat1.search(\"a7c\"))   # b 가 1개여야 함"
   ]
  },
  {
   "cell_type": "code",
   "execution_count": 21,
   "metadata": {},
   "outputs": [
    {
     "name": "stdout",
     "output_type": "stream",
     "text": [
      "메타 [] : b\n",
      "메타 [] : a\n",
      "메타 [] : a\n",
      "메타 [] : b\n",
      "메타 [] : a\n",
      "메타 [] : a\n",
      "메타 [] : b\n",
      "메타 [] : a\n",
      "메타 [] : a\n",
      "메타 [] : b\n",
      "메타 [] : a\n",
      "메타 [] : a\n"
     ]
    }
   ],
   "source": [
    "import re\n",
    "\n",
    "# 2.8 [ ]\n",
    "# 문자 클래스\n",
    "# [ ] 사이에 들어가는 문자들과 매치\n",
    "# - 을 사용하면 시작과 끝을 나타내기에 [a-c] 는 [abc], [0-2] 는 [012] 를 나타낸다.\n",
    "# [a-zA-Z] : 모든 영문자, [0-9] : 모든 숫자\n",
    "# [가-힣] : 모든 한글\n",
    "# [ ] 내에 ^ 는 반대라는 의미. 즉, [^0-9] 는 숫자를 제외한 모든 문자를 의미한다.\n",
    "# 자주 사용되는 문자 클래스\n",
    "# [\\d] : [0-9] 숫자\n",
    "# [\\D] : [^0-9] 숫자가 아닌 것\n",
    "# [\\s] : [ \\t\\n\\r\\f\\v] 공백\n",
    "# [\\S] : [^ \\t\\n\\r\\f\\v] 공백이 아닌 것\n",
    "# [\\w] : [a-zA-Z0-9] 문자, 숫자\n",
    "# [\\W] : [^a-zA-Z0-9] 문자, 숫자가 아닌것\n",
    "\n",
    "pat1 = re.compile(\"[abc]\")\n",
    "pat2 = re.compile(\"[a-c]\")\n",
    "pat3 = re.compile(\"[a-z]\")\n",
    "pat4 = re.compile(\"[^0-9]\")\n",
    "\n",
    "print(\"메타 [] :\", pat1.search(\"before\").group())\n",
    "print(\"메타 [] :\", pat1.search(\"after\").group())\n",
    "print(\"메타 [] :\", pat1.search(\"abc\").group())\n",
    "\n",
    "print(\"메타 [] :\", pat2.search(\"before\").group())\n",
    "print(\"메타 [] :\", pat2.search(\"after\").group())\n",
    "print(\"메타 [] :\", pat2.search(\"abc\").group())\n",
    "\n",
    "print(\"메타 [] :\", pat3.search(\"before\").group())\n",
    "print(\"메타 [] :\", pat3.search(\"after\").group())\n",
    "print(\"메타 [] :\", pat3.search(\"abc\").group())\n",
    "\n",
    "print(\"메타 [] :\", pat4.search(\"before\").group())\n",
    "print(\"메타 [] :\", pat4.search(\"after\").group())\n",
    "print(\"메타 [] :\", pat4.search(\"abc\").group())"
   ]
  },
  {
   "cell_type": "code",
   "execution_count": 22,
   "metadata": {},
   "outputs": [
    {
     "name": "stdout",
     "output_type": "stream",
     "text": [
      "메타 \\A : <re.Match object; span=(0, 1), match='a'>\n",
      "메타 \\A : <re.Match object; span=(0, 1), match='a'>\n",
      "메타 \\A : None\n",
      "#--------------------#\n",
      "메타 \\Z : None\n",
      "메타 \\Z : <re.Match object; span=(2, 3), match='b'>\n",
      "메타 \\Z : <re.Match object; span=(2, 3), match='b'>\n",
      "#--------------------#\n",
      "메타 \\b : <re.Match object; span=(6, 11), match='World'>\n",
      "메타 \\b : <re.Match object; span=(6, 11), match='World'>\n",
      "메타 \\b : None\n",
      "#--------------------#\n",
      "메타 \\W : <re.Match object; span=(5, 12), match=' World '>\n",
      "메타 \\W : <re.Match object; span=(5, 12), match=' World!'>\n",
      "메타 \\W : None\n",
      "#--------------------#\n",
      "메타 \\B : None\n",
      "메타 \\B : None\n",
      "메타 \\B : None\n",
      "메타 \\B : <re.Match object; span=(5, 10), match='World'>\n",
      "#--------------------#\n"
     ]
    }
   ],
   "source": [
    "import re\n",
    "\n",
    "# 2.9 \\\n",
    "# \\A : 문자열의 처음. ^ 는 라인의 처음. \\A 는 전체 문자열의 처음\n",
    "# \\Z : 문자열의 끝. $ 는 라인의 끝. \\Z 는 전체 문자열의 끝\n",
    "# \\b : 공백에 의해서 구분되는 단어 구분자\n",
    "# \\B : 단어 구분자 제외\n",
    "pat1 = re.compile(\"\\Aa\")\n",
    "\n",
    "print(\"메타 \\A :\", pat1.search(\"abc\"))\n",
    "print(\"메타 \\A :\", pat1.search(\"a b\"))\n",
    "print(\"메타 \\A :\", pat1.search(\"7ab\"))  # a 로 시작해야 함\n",
    "\n",
    "print(\"#\"+\"-\"*20+\"#\")\n",
    "\n",
    "pat1 = re.compile(\"b\\Z\")\n",
    "\n",
    "print(\"메타 \\Z :\", pat1.search(\"abc\"))  # b 로 끝나야 함\n",
    "print(\"메타 \\Z :\", pat1.search(\"a b\"))\n",
    "print(\"메타 \\Z :\", pat1.search(\"a7b\"))\n",
    "\n",
    "print(\"#\"+\"-\"*20+\"#\")\n",
    "\n",
    "pat1 = re.compile(r\"\\bWorld\\b\")\n",
    "\n",
    "print(r\"메타 \\b :\", pat1.search(\"Hello World !!!\"))\n",
    "print(r\"메타 \\b :\", pat1.search(\"Hello World!!!\")) # World! 에서도 검색해냄. 즉, ! 도 단어 구분자로 인식\n",
    "print(r\"메타 \\b :\", pat1.search(\"HelloWorld !!!\")) # 앞에 공백이 없어 검색못함\n",
    "\n",
    "print(\"#\"+\"-\"*20+\"#\")\n",
    "\n",
    "pat1 = re.compile(r\"\\WWorld\\W\")\n",
    "\n",
    "print(\"메타 \\W :\", pat1.search(\"Hello World !!!\"))\n",
    "print(\"메타 \\W :\", pat1.search(\"Hello World!!!\")) # World! 에서도 검색해냄. 즉, ! 도 단어 구분자로 인식\n",
    "print(\"메타 \\W :\", pat1.search(\"HelloWorld !!!\")) # 앞에 공백이 없어 검색못함\n",
    "\n",
    "print(\"#\"+\"-\"*20+\"#\")\n",
    "\n",
    "pat1 = re.compile(r\"\\BWorld\\B\")\n",
    "\n",
    "print(\"메타 \\B :\", pat1.search(\"Hello World !!!\"))    # World 의 앞뒤 모두 단어구분자가 없어야 함\n",
    "print(\"메타 \\B :\", pat1.search(\"Hello World!!!\"))     # World 의 앞뒤 모두 단어구분자가 없어야 함\n",
    "print(\"메타 \\B :\", pat1.search(\"HelloWorld!!!\"))      # World 의 앞뒤 모두 단어구분자가 없어야 함\n",
    "print(\"메타 \\B :\", pat1.search(\"HelloWorldHello!!!\")) # World 의 앞뒤 모두 단어구분자가 없어서 검색해냄\n",
    "\n",
    "print(\"#\"+\"-\"*20+\"#\")"
   ]
  },
  {
   "cell_type": "code",
   "execution_count": 23,
   "metadata": {},
   "outputs": [
    {
     "name": "stdout",
     "output_type": "stream",
     "text": [
      "메타 | : <re.Match object; span=(0, 2), match='ab'>\n",
      "메타 | : None\n",
      "메타 | : <re.Match object; span=(1, 3), match='ab'>\n"
     ]
    }
   ],
   "source": [
    "import re\n",
    "\n",
    "# 2.10 |\n",
    "# or, 여러개 중에 하나\n",
    "pat1 = re.compile(\"ab|abc\")\n",
    "\n",
    "print(\"메타 | :\", pat1.search(\"abc\"))\n",
    "print(\"메타 | :\", pat1.search(\"a b\")) # ab 혹은 abc 여야 함\n",
    "print(\"메타 | :\", pat1.search(\"7ab\"))"
   ]
  },
  {
   "cell_type": "code",
   "execution_count": 24,
   "metadata": {},
   "outputs": [
    {
     "name": "stdout",
     "output_type": "stream",
     "text": [
      "메타 ( ) group : <re.Match object; span=(0, 2), match='ab'>\n",
      "메타 ( ) group : None\n",
      "메타 ( ) group : <re.Match object; span=(1, 3), match='ab'>\n",
      "메타 ( ) group : AAA 010-1234-5678\n",
      "메타 ( ) group : AAA\n",
      "메타 ( ) group : 010-1234-5678\n",
      "메타 ( ) group : AAA 010-1234-5678\n",
      "메타 ( ) group : AAA\n",
      "메타 ( ) group : 010-1234-5678\n",
      "메타 ( ) group : 010\n",
      "메타 ( ) group name : AAA\n",
      "메타 ( ) group number : 010-1234-5678\n"
     ]
    }
   ],
   "source": [
    "import re\n",
    "\n",
    "# 2.11 ( )\n",
    "# 패턴을 묶어줄때 사용. 그룹핑\n",
    "pat1 = re.compile(\"(ab)+\")\n",
    "\n",
    "print(\"메타 ( ) group :\", pat1.search(\"abc\"))\n",
    "print(\"메타 ( ) group :\", pat1.search(\"a b\")) # ab 가 1번 이상 반복되어야 함\n",
    "print(\"메타 ( ) group :\", pat1.search(\"7ab\"))\n",
    "\n",
    "#pat1 = re.compile(r\"\\w+\\s+\\d+[-]\\d+[-]\\d+\")\n",
    "pat1 = re.compile(r\"(\\w+)\\s+(\\d+[-]\\d+[-]\\d+)\")\n",
    "\n",
    "print(\"메타 ( ) group :\", pat1.search(\"AAA 010-1234-5678\").group(0))  # 매치된 전체 문자열\n",
    "print(\"메타 ( ) group :\", pat1.search(\"AAA 010-1234-5678\").group(1))  # 매치된 첫번째 그룹\n",
    "print(\"메타 ( ) group :\", pat1.search(\"AAA 010-1234-5678\").group(2))  # 매치된 두번째 그룹\n",
    "\n",
    "pat1 = re.compile(r\"(\\w+)\\s+((\\d+)[-]\\d+[-]\\d+)\")   # 중첩도 가능하며 이경우 바깥쪽부터 안쪽으로 인덱스를 증가시킨다.\n",
    "\n",
    "print(\"메타 ( ) group :\", pat1.search(\"AAA 010-1234-5678\").group(0))  # 매치된 전체 문자열\n",
    "print(\"메타 ( ) group :\", pat1.search(\"AAA 010-1234-5678\").group(1))  # 매치된 첫번째 그룹\n",
    "print(\"메타 ( ) group :\", pat1.search(\"AAA 010-1234-5678\").group(2))  # 매치된 두번째 그룹\n",
    "print(\"메타 ( ) group :\", pat1.search(\"AAA 010-1234-5678\").group(3))  # 매치된 세번째 그룹\n",
    "\n",
    "# 그룹에 이름을 부여할 수 있음\n",
    "# (\\w+) -> (?P<group_name>\\w+)\n",
    "pat1 = re.compile(r\"(?P<name>\\w+)\\s+(?P<number>\\d+[-]\\d+[-]\\d+)\")\n",
    "\n",
    "print(\"메타 ( ) group name :\", pat1.search(\"AAA 010-1234-5678\").group(\"name\"))\n",
    "print(\"메타 ( ) group number :\", pat1.search(\"AAA 010-1234-5678\").group(\"number\"))"
   ]
  },
  {
   "cell_type": "code",
   "execution_count": 25,
   "metadata": {},
   "outputs": [
    {
     "name": "stdout",
     "output_type": "stream",
     "text": [
      "검색 : aaa.bat\n",
      "검색 : bbb.exe\n",
      "검색 : ccc.txt\n",
      "검색 : eee.py\n",
      "#--------------------#\n",
      "검색 : aaa.bat\n",
      "#--------------------#\n",
      "검색 : bbb.exe\n",
      "검색 : ccc.txt\n",
      "검색 : eee.py\n",
      "#--------------------#\n"
     ]
    }
   ],
   "source": [
    "import re\n",
    "\n",
    "# 3. 전방 탐색\n",
    "pat1 = re.compile(\".*[.].*$\")\n",
    "a = [\"aaa.bat\", \"bbb.exe\", \"ccc.txt\", \"ddd\", \"eee.py\"]\n",
    "\n",
    "for i in a:\n",
    "    if pat1.search(i):\n",
    "        print(\"검색 :\", pat1.search(i).group())\n",
    "\n",
    "print(\"#\"+\"-\"*20+\"#\")\n",
    "\n",
    "# 긍정형 전방 탐색\n",
    "# (?=) 를 사용\n",
    "pat1 = re.compile(\".*[.](?=bat$).*$\")\n",
    "a = [\"aaa.bat\", \"bbb.exe\", \"ccc.txt\", \"ddd\", \"eee.py\"]\n",
    "\n",
    "for i in a:\n",
    "    if pat1.search(i):\n",
    "        print(\"검색 :\", pat1.search(i).group())\n",
    "\n",
    "print(\"#\"+\"-\"*20+\"#\")\n",
    "\n",
    "# 부정형 전방 탐색\n",
    "# (?!) 를 사용\n",
    "pat1 = re.compile(\".*[.](?!bat$).*$\")\n",
    "a = [\"aaa.bat\", \"bbb.exe\", \"ccc.txt\", \"ddd\", \"eee.py\"]\n",
    "\n",
    "for i in a:\n",
    "    if pat1.search(i):\n",
    "        print(\"검색 :\", pat1.search(i).group())\n",
    "\n",
    "print(\"#\"+\"-\"*20+\"#\")"
   ]
  },
  {
   "cell_type": "code",
   "execution_count": 26,
   "metadata": {},
   "outputs": [
    {
     "name": "stdout",
     "output_type": "stream",
     "text": [
      "문자열 바꾸기 : abc abc abc aaa bbb ccc\n",
      "문자열 바꾸기 : ('abc abc abc aaa bbb ccc', 3)\n"
     ]
    }
   ],
   "source": [
    "import re\n",
    "\n",
    "# 4.1 문자열 바꾸기\n",
    "# sub 함수 사용 : sub(바뀌고 나서의 문자열, 검색할 문자열)\n",
    "# subn 은 tuple 로 처리 (바뀐 문자열, 바꾼 횟수)\n",
    "pat1 = re.compile(\"(AAA|BBB|CCC)\")\n",
    "print(\"문자열 바꾸기 :\", pat1.sub(\"abc\", \"AAA BBB CCC aaa bbb ccc\"))\n",
    "print(\"문자열 바꾸기 :\", pat1.subn(\"abc\", \"AAA BBB CCC aaa bbb ccc\"))"
   ]
  },
  {
   "cell_type": "code",
   "execution_count": 27,
   "metadata": {},
   "outputs": [
    {
     "name": "stdout",
     "output_type": "stream",
     "text": [
      "문자열 바꾸기 : 010-1234-5678 AAA\n"
     ]
    }
   ],
   "source": [
    "import re\n",
    "\n",
    "# 4.2 문자열 바꾸기 : 참조 구문 이용하기\n",
    "pat1 = re.compile(r\"(?P<name>\\w+)\\s+(?P<number>\\d+[-]\\d+[-]\\d+)\")\n",
    "print(\"문자열 바꾸기 :\", pat1.sub(\"\\g<number> \\g<name>\", \"AAA 010-1234-5678\"))"
   ]
  },
  {
   "cell_type": "code",
   "execution_count": 28,
   "metadata": {},
   "outputs": [
    {
     "name": "stdout",
     "output_type": "stream",
     "text": [
      "compile : None\n",
      "compile DOTALL (DOTALL) : <re.Match object; span=(0, 3), match='a\\nb'>\n",
      "compile DOTALL (S): <re.Match object; span=(0, 3), match='a\\nb'>\n"
     ]
    }
   ],
   "source": [
    "import re\n",
    "\n",
    "# 5. 컴파일 옵션\n",
    "# 찾으려고 하는 정규 표현식을 're.compile' 을 통해 컴파일할때 옵션을 줄 수 있다.\n",
    "# DOTALL(S)\n",
    "# IGNORE(I)\n",
    "# MULTILINE(M)\n",
    "# VERBOSE(X)\n",
    "\n",
    "# 5.1 DOTALL, S\n",
    "# . 검색하면 \\n 외에 모든 문자를 검색하지만 DOTALL 옵션으로 컴파일하면 \\n 도 포함\n",
    "pat1 = re.compile(\"a.b\")\n",
    "pat2 = re.compile(\"a.b\", re.DOTALL)\n",
    "pat3 = re.compile(\"a.b\", re.S)\n",
    "\n",
    "print(\"compile :\", pat1.search(\"a\\nb\"))\n",
    "print(\"compile DOTALL (DOTALL) :\", pat2.search(\"a\\nb\"))\n",
    "print(\"compile DOTALL (S):\", pat3.search(\"a\\nb\"))"
   ]
  },
  {
   "cell_type": "code",
   "execution_count": 29,
   "metadata": {},
   "outputs": [
    {
     "name": "stdout",
     "output_type": "stream",
     "text": [
      "compile : None\n",
      "compile IGNORECASE (IGNORECASE) : <re.Match object; span=(0, 3), match='ABC'>\n",
      "compile IGNORECASE (I): <re.Match object; span=(0, 3), match='ABC'>\n"
     ]
    }
   ],
   "source": [
    "import re\n",
    "\n",
    "# 5.2 IGNORECASE, I\n",
    "# 대소문자 구별없이 검색\n",
    "pat1 = re.compile(\"[a-z]+\")\n",
    "pat2 = re.compile(\"[a-z]+\", re.IGNORECASE)\n",
    "pat3 = re.compile(\"[a-z]+\", re.I)\n",
    "\n",
    "print(\"compile :\", pat1.search(\"ABC\"))\n",
    "print(\"compile IGNORECASE (IGNORECASE) :\", pat2.search(\"ABC\"))\n",
    "print(\"compile IGNORECASE (I):\", pat3.search(\"ABC\"))"
   ]
  },
  {
   "cell_type": "code",
   "execution_count": 30,
   "metadata": {},
   "outputs": [
    {
     "name": "stdout",
     "output_type": "stream",
     "text": [
      "compile : ['AAA', 'AAA', 'AAA']\n",
      "compile MULTILINE (MULTILINE) : ['AAA', 'AAA', 'AAA']\n",
      "compile MULTILINE (M): ['AAA', 'AAA', 'AAA']\n"
     ]
    }
   ],
   "source": [
    "import re\n",
    "\n",
    "# 5.3 MULTILINE, M\n",
    "# 여러라인에서 라인마다 검색\n",
    "mesg = \"\"\"AAA\n",
    "BBB CCC\n",
    "AAA BBB\n",
    "CCC AAA\n",
    "BBB\"\"\"\n",
    "\n",
    "pat1 = re.compile(\"AAA\")\n",
    "pat2 = re.compile(\"AAA\", re.MULTILINE)\n",
    "pat3 = re.compile(\"AAA\", re.M)\n",
    "\n",
    "print(\"compile :\", pat1.findall(mesg))\n",
    "print(\"compile MULTILINE (MULTILINE) :\", pat2.findall(mesg))\n",
    "print(\"compile MULTILINE (M):\", pat3.findall(mesg))"
   ]
  },
  {
   "cell_type": "code",
   "execution_count": 31,
   "metadata": {},
   "outputs": [
    {
     "name": "stdout",
     "output_type": "stream",
     "text": [
      "compile : AAA 010-1234-5678\n",
      "compile VERBOSE : AAA 010-1234-5678\n"
     ]
    }
   ],
   "source": [
    "import re\n",
    "\n",
    "# 5.4 VERBOSE, X\n",
    "pat1 = re.compile(r\"(?P<name>\\w+)\\s+(?P<number>\\d+[-]\\d+[-]\\d+)\")\n",
    "pat2 = re.compile(r\"\"\"\n",
    "                    (?P<name>\\w+)   # name\n",
    "                    \\s+\n",
    "                    (?P<number>\\d+[-]\\d+[-]\\d+) # number\n",
    "                    \"\"\", re.VERBOSE)\n",
    "\n",
    "print(\"compile :\", pat1.search(\"AAA 010-1234-5678\").group())\n",
    "print(\"compile VERBOSE :\", pat2.search(\"AAA 010-1234-5678\").group())"
   ]
  },
  {
   "cell_type": "code",
   "execution_count": 32,
   "metadata": {},
   "outputs": [
    {
     "name": "stdout",
     "output_type": "stream",
     "text": [
      "\\ : \\Two\n",
      "\\ : \\Two\n",
      "#--------------------#\n",
      "\\ : <name>aaa</name>\n",
      "#--------------------#\n"
     ]
    }
   ],
   "source": [
    "import re\n",
    "\n",
    "# 6. \\\n",
    "# 문자열에 \\ 가 있는 경우\n",
    "pat1 = re.compile(\"\\\\\\Two\")\n",
    "pat2 = re.compile(r\"\\\\Two\")\n",
    "\n",
    "print(\"\\ :\", pat1.search(\"C:\\One\\Two\\Three\").group())\n",
    "print(\"\\ :\", pat2.search(\"C:\\One\\Two\\Three\").group())\n",
    "\n",
    "print(\"#\"+\"-\"*20+\"#\")\n",
    "\n",
    "#\n",
    "pat1 = re.compile('{(\\s*)\"(\\w+)\":\\s*\"(\\w+)\"(\\s*)}')\n",
    "print(\"\\ :\", pat1.sub(r'<\\2>\\3</\\2>', '{ \"name\": \"aaa\" }'))\n",
    "\n",
    "print(\"#\"+\"-\"*20+\"#\")"
   ]
  }
 ],
 "metadata": {
  "kernelspec": {
   "display_name": "Python 3",
   "language": "python",
   "name": "python3"
  },
  "language_info": {
   "codemirror_mode": {
    "name": "ipython",
    "version": 3
   },
   "file_extension": ".py",
   "mimetype": "text/x-python",
   "name": "python",
   "nbconvert_exporter": "python",
   "pygments_lexer": "ipython3",
   "version": "3.7.2"
  }
 },
 "nbformat": 4,
 "nbformat_minor": 2
}
