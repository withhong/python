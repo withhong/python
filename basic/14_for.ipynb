{
 "cells": [
  {
   "cell_type": "code",
   "execution_count": 1,
   "metadata": {},
   "outputs": [
    {
     "name": "stdout",
     "output_type": "stream",
     "text": [
      "hello\n",
      "hello\n",
      "hello\n",
      "hello\n",
      "end\n"
     ]
    }
   ],
   "source": [
    "# 1. 일반적인 for 문의 형태\n",
    "for n in [1,2,3,4]:\n",
    "    print(\"hello\")\n",
    "print(\"end\")"
   ]
  },
  {
   "cell_type": "code",
   "execution_count": 2,
   "metadata": {},
   "outputs": [
    {
     "name": "stdout",
     "output_type": "stream",
     "text": [
      "0\n",
      "1\n",
      "2\n",
      "end\n",
      "1\n",
      "2\n",
      "end\n",
      "1\n",
      "3\n",
      "5\n",
      "7\n",
      "9\n",
      "end\n"
     ]
    }
   ],
   "source": [
    "# 2. range 이용 : range(start:end) -> start ~ end-1\n",
    "# range(n) : 0부터 n-1까지 반환\n",
    "# range(m,n) : m 부터 n-1까지 반환\n",
    "# range(m,n,s) : m 부터 n-1까지 반환, 증가는 s\n",
    "\n",
    "for n in range(3):\n",
    "    print(n)\n",
    "print(\"end\")\n",
    "\n",
    "for n in range(1,3):\n",
    "    print(n)\n",
    "print(\"end\")\n",
    "\n",
    "for n in range(1,10,2):\n",
    "    print(n)\n",
    "print(\"end\")"
   ]
  },
  {
   "cell_type": "code",
   "execution_count": 3,
   "metadata": {},
   "outputs": [
    {
     "name": "stdout",
     "output_type": "stream",
     "text": [
      "list 100\n",
      "list 200\n",
      "list 300\n",
      "end\n",
      "set 10\n",
      "set 20\n",
      "set 30\n",
      "end\n",
      "tuple 1\n",
      "tuple 2\n",
      "tuple 3\n",
      "end\n",
      "dict java\n",
      "dict python\n",
      "end\n",
      "dict key: java\n",
      "dict key: python\n",
      "end\n",
      "dict value: 웹\n",
      "dict value: 분석\n",
      "end\n",
      "dict item: ('java', '웹')\n",
      "dict item: ('python', '분석')\n",
      "end\n"
     ]
    }
   ],
   "source": [
    "# 3. 집합데이터의 반복문\n",
    "# list\n",
    "for n in [100,200,300]:\n",
    "    print(\"list\", n)\n",
    "print(\"end\")\n",
    "\n",
    "# set\n",
    "for n in {10,20,30}:\n",
    "    print(\"set\", n)\n",
    "print(\"end\")\n",
    "\n",
    "# tuple\n",
    "for n in (1,2,3):\n",
    "    print(\"tuple\", n)\n",
    "print(\"end\")\n",
    "\n",
    "# dict 는 key 값이 기본으로 출력됨\n",
    "for n in {'java':\"웹\", 'python':\"분석\"}: # dict\n",
    "    print(\"dict\", n)\n",
    "print(\"end\")\n",
    "\n",
    "# 명시적으로 key 값 얻기\n",
    "dict2 = {'java':\"웹\", 'python':\"분석\"}\n",
    "for n in dict2.keys(): # dict\n",
    "    print(\"dict key:\", n)\n",
    "print(\"end\")\n",
    "\n",
    "# 명시적으로 value 값 얻기\n",
    "dict2 = {'java':\"웹\", 'python':\"분석\"}\n",
    "for n in dict2.values(): # dict\n",
    "    print(\"dict value:\", n)\n",
    "print(\"end\")\n",
    "\n",
    "# 명시적으로 key, value 한번에 tuple 형태로 얻기\n",
    "dict2 = {'java':\"웹\", 'python':\"분석\"}\n",
    "for n in dict2.items(): # dict\n",
    "    print(\"dict item:\", n)\n",
    "print(\"end\")"
   ]
  },
  {
   "cell_type": "code",
   "execution_count": 4,
   "metadata": {},
   "outputs": [
    {
     "name": "stdout",
     "output_type": "stream",
     "text": [
      "10\n",
      "20\n",
      "30\n",
      "[11, 21, 31]\n",
      "[11, 21, 31]\n"
     ]
    }
   ],
   "source": [
    "# 3. 다른 형태의 반복문\n",
    "# 일반적인 for 문\n",
    "# for 변수1 in [데이터]:\n",
    "#    문장\n",
    "\n",
    "# 다른 형태의 반복문\n",
    "# 변수2 = [문장 for 변수1 in 데이터]\n",
    "\n",
    "for n in [10, 20, 30]:\n",
    "    print(n)\n",
    "\n",
    "n2=[]\n",
    "for n1 in [10, 20, 30]:\n",
    "    n2.append(n1+1)\n",
    "print(n2)\n",
    "\n",
    "n2 = [n1+1 for n1 in [10,20,30]]\n",
    "print(n2)"
   ]
  }
 ],
 "metadata": {
  "kernelspec": {
   "display_name": "Python 3",
   "language": "python",
   "name": "python3"
  },
  "language_info": {
   "codemirror_mode": {
    "name": "ipython",
    "version": 3
   },
   "file_extension": ".py",
   "mimetype": "text/x-python",
   "name": "python",
   "nbconvert_exporter": "python",
   "pygments_lexer": "ipython3",
   "version": "3.7.2"
  }
 },
 "nbformat": 4,
 "nbformat_minor": 2
}
