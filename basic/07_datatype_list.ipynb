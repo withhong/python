{
 "cells": [
  {
   "cell_type": "code",
   "execution_count": 1,
   "metadata": {},
   "outputs": [],
   "source": [
    "#1. list 생성 (순서 있고 중복 가능, 수정 가능, 혼합 데이터 가능)\n",
    "m1 = [10,20,30]\n",
    "m2 = []             # 비어있는 list 생성 가능"
   ]
  },
  {
   "cell_type": "code",
   "execution_count": 2,
   "metadata": {},
   "outputs": [
    {
     "name": "stdout",
     "output_type": "stream",
     "text": [
      "append:  [10, 20, 30, 40]\n",
      "append:  [10, 20, 30, 40, [50, 60]]\n",
      "append:  [10, 20, 30, 40, [50, 60], (70, 80)]\n"
     ]
    }
   ],
   "source": [
    "#2. 함수\n",
    "# append\n",
    "m = [10,20,30]\n",
    "m.append(40)\n",
    "print(\"append: \", m)\n",
    "m.append([50,60]) # list\n",
    "print(\"append: \", m)\n",
    "m.append((70,80)) # tuple\n",
    "print(\"append: \", m)"
   ]
  },
  {
   "cell_type": "code",
   "execution_count": 3,
   "metadata": {},
   "outputs": [
    {
     "name": "stdout",
     "output_type": "stream",
     "text": [
      "extend:  [10, 20, 30, 900, 300]\n",
      "extend:  [10, 20, 30, 900, 300, 700]\n"
     ]
    }
   ],
   "source": [
    "# extend : 추가할 때 추가하는 값을 개별값으로 추가 가능\n",
    "m = [10,20,30]\n",
    "m.extend([900,300])\n",
    "print(\"extend: \", m)\n",
    "m.extend([700])\n",
    "print(\"extend: \", m)"
   ]
  },
  {
   "cell_type": "code",
   "execution_count": 4,
   "metadata": {},
   "outputs": [
    {
     "name": "stdout",
     "output_type": "stream",
     "text": [
      "insert:  [100, 10, 20, 30]\n",
      "insert:  [100, [7, 8, 9], 10, 20, 30]\n"
     ]
    }
   ],
   "source": [
    "# insert : 특정 위치에 추가 가능\n",
    "m = [10,20,30]\n",
    "m.insert(0, 100)\n",
    "print(\"insert: \", m)\n",
    "m.insert(1, [7,8,9])\n",
    "print(\"insert: \", m)"
   ]
  },
  {
   "cell_type": "code",
   "execution_count": 5,
   "metadata": {},
   "outputs": [
    {
     "name": "stdout",
     "output_type": "stream",
     "text": [
      "+로 리스트 생성 [10, 20, 30]\n",
      "+로 리스트 생성 [7, 8, 9, 10, 20, 30]\n"
     ]
    }
   ],
   "source": [
    "# + 사용\n",
    "m1 = [10,20,30]\n",
    "m2 = [7,8,9]\n",
    "m2 += m1\n",
    "print(\"+로 리스트 생성\", m1)\n",
    "print(\"+로 리스트 생성\", m2)"
   ]
  },
  {
   "cell_type": "code",
   "execution_count": 6,
   "metadata": {},
   "outputs": [
    {
     "name": "stdout",
     "output_type": "stream",
     "text": [
      "특정값:  10\n",
      "특정값:  [10, 20, 30]\n",
      "특정값:  [10, 20, 30]\n",
      "특정값:  [10, 20, 30]\n"
     ]
    }
   ],
   "source": [
    "# slice\n",
    "m = [10,20,30]\n",
    "print(\"특정값: \", m[0])\n",
    "print(\"특정값: \", m[0:3])\n",
    "print(\"특정값: \", m[:3])\n",
    "print(\"특정값: \", m[:])"
   ]
  },
  {
   "cell_type": "code",
   "execution_count": 7,
   "metadata": {},
   "outputs": [
    {
     "name": "stdout",
     "output_type": "stream",
     "text": [
      "길이:  3\n",
      "포함갯수:  2\n",
      "특정위치:  1\n",
      "특정위치:  2\n",
      "포함여부:  True\n",
      "포함여부:  False\n"
     ]
    }
   ],
   "source": [
    "# 기타 함수\n",
    "print(\"길이: \", len(m))\n",
    "print(\"포함갯수: \", [1,2,2,3,4].count(2))\n",
    "print(\"특정위치: \", [1,2,2,3,4].index(2))\n",
    "print(\"특정위치: \", [1,2,2,3,4].index(2,2,3))\n",
    "print(\"포함여부: \", 1 in [1,2,2,3,4])\n",
    "print(\"포함여부: \", 5 in [1,2,2,3,4])"
   ]
  },
  {
   "cell_type": "code",
   "execution_count": 8,
   "metadata": {},
   "outputs": [
    {
     "name": "stdout",
     "output_type": "stream",
     "text": [
      "값변경: [100, 20, 30, 40]\n"
     ]
    }
   ],
   "source": [
    "# modify\n",
    "m = [10,20,30,40]\n",
    "m[0] = 100\n",
    "print(\"값변경:\", m)"
   ]
  },
  {
   "cell_type": "code",
   "execution_count": 9,
   "metadata": {},
   "outputs": [
    {
     "name": "stdout",
     "output_type": "stream",
     "text": [
      "pop:  [100, 20, 30]\n"
     ]
    }
   ],
   "source": [
    "# pop\n",
    "m.pop() # 맨 끝값 삭제\n",
    "print(\"pop: \", m)"
   ]
  },
  {
   "cell_type": "code",
   "execution_count": 10,
   "metadata": {},
   "outputs": [
    {
     "name": "stdout",
     "output_type": "stream",
     "text": [
      "값에 의한 삭제: [20, 30]\n"
     ]
    }
   ],
   "source": [
    "# remove : 값에 의한 삭제\n",
    "m.remove(100)\n",
    "print(\"값에 의한 삭제:\", m)"
   ]
  },
  {
   "cell_type": "code",
   "execution_count": 11,
   "metadata": {},
   "outputs": [
    {
     "name": "stdout",
     "output_type": "stream",
     "text": [
      "리스트 중첩 접근:  [7, 8, 9]\n"
     ]
    }
   ],
   "source": [
    "# 중첩 접근\n",
    "m = [10,20,30,[7,8,9]]\n",
    "print(\"리스트 중첩 접근: \", m[3][0:3])"
   ]
  },
  {
   "cell_type": "code",
   "execution_count": 12,
   "metadata": {},
   "outputs": [
    {
     "name": "stdout",
     "output_type": "stream",
     "text": [
      "오름차순:  [1, 2, 4, 5, 7, 9]\n",
      "내림차순:  [9, 7, 5, 4, 2, 1]\n"
     ]
    }
   ],
   "source": [
    "# 정렬\n",
    "m = [9,5,2,4,1,7]\n",
    "m.sort()\n",
    "print(\"오름차순: \", m)\n",
    "m.sort(reverse=True)\n",
    "print(\"내림차순: \", m)"
   ]
  },
  {
   "cell_type": "code",
   "execution_count": 13,
   "metadata": {},
   "outputs": [
    {
     "name": "stdout",
     "output_type": "stream",
     "text": [
      "오름차순:  ['2', '5', '9']\n",
      "내림차순:  ['9', '5', '2']\n",
      "오름차순:  ['20', '500', '90']\n",
      "내림차순:  ['90', '500', '20']\n",
      "오름차순:  ['20', '90', '500']\n",
      "내림차순:  ['500', '90', '20']\n"
     ]
    }
   ],
   "source": [
    "# 숫자 표현 문자열 정렬 : 한자리는 정렬됨, 한자리만 비교\n",
    "m = ['9', '5', '2']\n",
    "m.sort()\n",
    "print(\"오름차순: \", m)\n",
    "m.sort(reverse=True)\n",
    "print(\"내림차순: \", m)\n",
    "\n",
    "m = ['90', '500', '20']\n",
    "m.sort()\n",
    "print(\"오름차순: \", m)\n",
    "m.sort(reverse=True)\n",
    "print(\"내림차순: \", m)\n",
    "\n",
    "# 숫자 표현 문자열 정렬 : 정수로 변경 후 정렬\n",
    "m = ['90', '500', '20']\n",
    "m.sort(key=int) # 원래는 ascii 로 비교\n",
    "print(\"오름차순: \", m)\n",
    "m.sort(key=int, reverse=True)\n",
    "print(\"내림차순: \", m)"
   ]
  },
  {
   "cell_type": "code",
   "execution_count": 14,
   "metadata": {},
   "outputs": [
    {
     "name": "stdout",
     "output_type": "stream",
     "text": [
      "[]\n"
     ]
    }
   ],
   "source": [
    "# 리스트 삭제\n",
    "m.clear()\n",
    "print(m)"
   ]
  }
 ],
 "metadata": {
  "kernelspec": {
   "display_name": "Python 3",
   "language": "python",
   "name": "python3"
  },
  "language_info": {
   "codemirror_mode": {
    "name": "ipython",
    "version": 3
   },
   "file_extension": ".py",
   "mimetype": "text/x-python",
   "name": "python",
   "nbconvert_exporter": "python",
   "pygments_lexer": "ipython3",
   "version": "3.7.2"
  }
 },
 "nbformat": 4,
 "nbformat_minor": 2
}
