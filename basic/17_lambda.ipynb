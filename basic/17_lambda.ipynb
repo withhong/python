{
 "cells": [
  {
   "cell_type": "markdown",
   "metadata": {},
   "source": [
    "## 람다 함수 (lambda)\n",
    "    함수의 다른 표현식\n",
    "    함수가 실행해야 하는 문장이 단일 문장일때만 가능"
   ]
  },
  {
   "cell_type": "code",
   "execution_count": 1,
   "metadata": {},
   "outputs": [
    {
     "name": "stdout",
     "output_type": "stream",
     "text": [
      "hello my_func_1\n",
      "hello my_func_2\n"
     ]
    }
   ],
   "source": [
    "# 1. 파라미터 없고 리턴값 없는 형태\n",
    "def my_func_1():\n",
    "    print(\"hello my_func_1\")\n",
    "my_func_1()\n",
    "\n",
    "my_func_2=lambda : print(\"hello my_func_2\")\n",
    "my_func_2()"
   ]
  },
  {
   "cell_type": "code",
   "execution_count": 2,
   "metadata": {},
   "outputs": [
    {
     "name": "stdout",
     "output_type": "stream",
     "text": [
      "hello my_func_1 10 20\n",
      "hello my_func_2 10 20\n"
     ]
    }
   ],
   "source": [
    "# 2. 파라미터 있고 리턴값 없는 형태\n",
    "def my_func_1(n1,n2=100):\n",
    "    print(\"hello my_func_1\",n1,n2)\n",
    "my_func_1(10,20)\n",
    "\n",
    "my_func_2=lambda n1,n2=100: print(\"hello my_func_2\",n1,n2)\n",
    "my_func_2(10,20)"
   ]
  },
  {
   "cell_type": "code",
   "execution_count": 3,
   "metadata": {},
   "outputs": [
    {
     "name": "stdout",
     "output_type": "stream",
     "text": [
      "100\n",
      "100\n"
     ]
    }
   ],
   "source": [
    "# 3. 파라미터 없고 리턴값 있는 형태\n",
    "def my_func_1():\n",
    "    return 100\n",
    "m1 = my_func_1()\n",
    "print(m1)\n",
    "\n",
    "my_func_2=lambda : 100 # return 은 생략\n",
    "m2 = my_func_2()\n",
    "print(m2)"
   ]
  },
  {
   "cell_type": "code",
   "execution_count": 4,
   "metadata": {},
   "outputs": [
    {
     "name": "stdout",
     "output_type": "stream",
     "text": [
      "3\n",
      "3\n"
     ]
    }
   ],
   "source": [
    "# 4. 파라미터 있고 리턴값 있는 형태\n",
    "def my_func_1(n1,n2):\n",
    "    return n1+n2\n",
    "m1 = my_func_1(1,2)\n",
    "print(m1)\n",
    "\n",
    "my_func_2=lambda n1,n2 : n1+n2 # return 은 생략\n",
    "m2 = my_func_2(1,2)\n",
    "print(m2)"
   ]
  },
  {
   "cell_type": "code",
   "execution_count": 5,
   "metadata": {},
   "outputs": [
    {
     "name": "stdout",
     "output_type": "stream",
     "text": [
      "10 ('홍', 20) {'name': '홍길동', 'age': 20}\n",
      "10 ('홍', 20) {'name': '홍길동', 'age': 20}\n"
     ]
    }
   ],
   "source": [
    "# 5. 가변인자\n",
    "def my_func_1(n1, *n2, **n3):\n",
    "    print(n1,n2,n3)\n",
    "my_func_1(10,\"홍\",20, name=\"홍길동\", age=20)\n",
    "\n",
    "my_func_2 = lambda n1, *n2, **n3: print(n1,n2,n3)\n",
    "my_func_2(10,\"홍\",20, name=\"홍길동\", age=20)"
   ]
  }
 ],
 "metadata": {
  "kernelspec": {
   "display_name": "Python 3",
   "language": "python",
   "name": "python3"
  },
  "language_info": {
   "codemirror_mode": {
    "name": "ipython",
    "version": 3
   },
   "file_extension": ".py",
   "mimetype": "text/x-python",
   "name": "python",
   "nbconvert_exporter": "python",
   "pygments_lexer": "ipython3",
   "version": "3.7.2"
  }
 },
 "nbformat": 4,
 "nbformat_minor": 2
}
