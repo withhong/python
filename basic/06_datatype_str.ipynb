{
 "cells": [
  {
   "cell_type": "code",
   "execution_count": 1,
   "metadata": {},
   "outputs": [
    {
     "name": "stdout",
     "output_type": "stream",
     "text": [
      "대 한 민 국\n",
      "대한민\n",
      "대한민국\n",
      "대한민국\n",
      "대한민국\n",
      "대한민국\n",
      "대한민\n",
      "국민한대\n",
      "국민한대\n",
      "대한민국대한민국\n"
     ]
    }
   ],
   "source": [
    "# 1. slice\n",
    "m = \"대한민국\"\n",
    "print(m[0],m[1],m[2],m[3])\n",
    "print(m[0:3])\n",
    "print(m[0:4])\n",
    "print(m[0:])\n",
    "print(m[:4])\n",
    "print(m[:])\n",
    "print(m[:-1])   # 뒤에서부터 count\n",
    "print(m[::-1])  # 문자열 전체에서 '1'씩 감소시키면서 가져옴. 즉, 문자열을 뒤집은 것과 같은 효과\n",
    "print(''.join(reversed(m))) # reversed 와 join 을 이용하여 문자열 뒤집는 방법\n",
    "print(m*2)"
   ]
  },
  {
   "cell_type": "code",
   "execution_count": 2,
   "metadata": {},
   "outputs": [
    {
     "name": "stdout",
     "output_type": "stream",
     "text": [
      "문자열길이 5\n",
      "특정문자포함갯수 1\n",
      "특정문자위치 1\n",
      "대문자 HELLO\n",
      "소문자 hello\n",
      "대소문자 swap hELLO\n",
      "특정문자로 시작하는지 True False\n",
      "문자변경: Aello\n",
      "문자변경: Heolo\n",
      "구분자: ['aaa', 'bbb', 'ccc']\n",
      "공백제거: Hello\n",
      "공백제거: Hello         \n",
      "공백제거:            Hello\n",
      "특정문자제거:            ,Hello.         \n",
      "구두점제거     :            ,Hello.         \n",
      "구두점제거     : Hello\n",
      "구두점및공백제거: Hello\n",
      "구두점및공백제거: Hello\n",
      "!\"#$%&'()*+,-./:;<=>?@[\\]^_`{|}~\n",
      "정렬: Hello     \n",
      "정렬:      Hello\n",
      "정렬:   Hello   \n"
     ]
    }
   ],
   "source": [
    "# 2. 함수\n",
    "print(\"문자열길이\", len(\"Hello\"))\n",
    "print(\"특정문자포함갯수\", \"Hello\".count('e'))\n",
    "print(\"특정문자위치\", \"Hello\".find('e'))\n",
    "print(\"대문자\", \"Hello\".upper())\n",
    "print(\"소문자\", \"Hello\".lower())\n",
    "print(\"대소문자 swap\", \"Hello\".swapcase())\n",
    "print(\"특정문자로 시작하는지\", \"Hello\".startswith(\"H\"), \"Hello\".startswith(\"x\"))\n",
    "print(\"문자변경:\", \"Hello\".replace(\"H\", \"A\"))\n",
    "print(\"문자변경:\", \"Hello\".replace(\"l\", \"o\",1))\n",
    "print(\"구분자:\", \"aaa/bbb/ccc\".split(\"/\"))   # 반환값은 list\n",
    "print(\"공백제거:\", \"           Hello         \".strip())\n",
    "print(\"공백제거:\", \"           Hello         \".lstrip())\n",
    "print(\"공백제거:\", \"           Hello         \".rstrip())\n",
    "print(\"특정문자제거:\", \"           ,Hello.         \".strip(',.'))   # , .\n",
    "\n",
    "import string\n",
    "print(\"구두점제거     :\", \"           ,Hello.         \".strip(string.punctuation))            # 구두점\n",
    "print(\"구두점제거     :\", \",Hello.\".strip(string.punctuation))            # 구두점 (공백이 없어야 제거됨)\n",
    "print(\"구두점및공백제거:\", \"           ,Hello.         \".strip(string.punctuation + ' '))      # 구두점 + 공백\n",
    "print(\"구두점및공백제거:\", \"           ,Hello.         \".strip().strip(string.punctuation))    # 구두점 + 공백\n",
    "print(string.punctuation)\n",
    "\n",
    "print(\"정렬:\", \"Hello\".ljust(10))\n",
    "print(\"정렬:\", \"Hello\".rjust(10))\n",
    "print(\"정렬:\", \"Hello\".center(10))"
   ]
  }
 ],
 "metadata": {
  "kernelspec": {
   "display_name": "Python 3",
   "language": "python",
   "name": "python3"
  },
  "language_info": {
   "codemirror_mode": {
    "name": "ipython",
    "version": 3
   },
   "file_extension": ".py",
   "mimetype": "text/x-python",
   "name": "python",
   "nbconvert_exporter": "python",
   "pygments_lexer": "ipython3",
   "version": "3.7.2"
  }
 },
 "nbformat": 4,
 "nbformat_minor": 2
}
