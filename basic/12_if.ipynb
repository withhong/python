{
 "cells": [
  {
   "cell_type": "code",
   "execution_count": 1,
   "metadata": {},
   "outputs": [
    {
     "name": "stdout",
     "output_type": "stream",
     "text": [
      "A\n",
      "B\n",
      "C\n"
     ]
    }
   ],
   "source": [
    "# 1. 조건문 (단일 if, if~else, 다중 if, 중첩 if, 3항 연산자)\n",
    "# 조건문 수행시 코드는 ':'와 indent 를 통해 구분\n",
    "\n",
    "# 단일 if 문\n",
    "\n",
    "print(\"A\")\n",
    "if 1:\n",
    "    print(\"B\")\n",
    "print(\"C\")"
   ]
  },
  {
   "cell_type": "code",
   "execution_count": 2,
   "metadata": {},
   "outputs": [
    {
     "name": "stdout",
     "output_type": "stream",
     "text": [
      "A\n",
      "B\n",
      "#--------------------#\n"
     ]
    }
   ],
   "source": [
    "# if~else 문\n",
    "\n",
    "print(\"A\")\n",
    "if 1:\n",
    "    print(\"B\")\n",
    "else:\n",
    "    print(\"C\")\n",
    "\n",
    "print(\"#\"+\"-\"*20+\"#\")"
   ]
  },
  {
   "cell_type": "code",
   "execution_count": 3,
   "metadata": {},
   "outputs": [
    {
     "name": "stdout",
     "output_type": "stream",
     "text": [
      "A\n"
     ]
    }
   ],
   "source": [
    "# 다중 if 문\n",
    "\n",
    "# 입력을 받으면 문자열이다.\n",
    "# 문자열 -> 정수 : int\n",
    "# 정수 -> 문자열 : str\n",
    "#n = int(input(\"점수입력:\"))\n",
    "n = 100\n",
    "if (n>90):\n",
    "    print(\"A\")\n",
    "elif (n>80):\n",
    "    print(\"B\")\n",
    "else:\n",
    "    print(\"C\")"
   ]
  },
  {
   "cell_type": "code",
   "execution_count": 4,
   "metadata": {},
   "outputs": [
    {
     "name": "stdout",
     "output_type": "stream",
     "text": [
      "A\n"
     ]
    }
   ],
   "source": [
    "# 중첩 if 문\n",
    "n = 99\n",
    "\n",
    "if (n>90):\n",
    "    print(\"A\")\n",
    "else:\n",
    "    if (n>80):\n",
    "        print(\"B\")\n",
    "    else:\n",
    "        print(\"C\")"
   ]
  },
  {
   "cell_type": "code",
   "execution_count": 5,
   "metadata": {},
   "outputs": [
    {
     "name": "stdout",
     "output_type": "stream",
     "text": [
      "200\n"
     ]
    }
   ],
   "source": [
    "# 3항 연산자\n",
    "# 보통은 (조건식)? 참일때 : 거짓일때\n",
    "# python 은 참일때 if (조건식) else 거짓일때\n",
    "\n",
    "a = 6\n",
    "result = 100 if a==61 else 200\n",
    "print(result)"
   ]
  }
 ],
 "metadata": {
  "kernelspec": {
   "display_name": "Python 3",
   "language": "python",
   "name": "python3"
  },
  "language_info": {
   "codemirror_mode": {
    "name": "ipython",
    "version": 3
   },
   "file_extension": ".py",
   "mimetype": "text/x-python",
   "name": "python",
   "nbconvert_exporter": "python",
   "pygments_lexer": "ipython3",
   "version": "3.7.2"
  }
 },
 "nbformat": 4,
 "nbformat_minor": 2
}
