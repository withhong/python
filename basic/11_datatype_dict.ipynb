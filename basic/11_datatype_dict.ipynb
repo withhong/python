{
 "cells": [
  {
   "cell_type": "code",
   "execution_count": 1,
   "metadata": {},
   "outputs": [
    {
     "name": "stdout",
     "output_type": "stream",
     "text": [
      "{}\n",
      "{'name': '홍길동', 'age': 20}\n",
      "{'name': '홍길동', 'age': 20}\n"
     ]
    }
   ],
   "source": [
    "# 1. dict 생성\n",
    "m1 = dict()\n",
    "m2 = dict({\"name\":\"홍길동\", \"age\":20})\n",
    "m3 = {\"name\":\"홍길동\", \"age\":20}\n",
    "\n",
    "print(m1)\n",
    "print(m2)\n",
    "print(m3)"
   ]
  },
  {
   "cell_type": "code",
   "execution_count": 2,
   "metadata": {},
   "outputs": [
    {
     "name": "stdout",
     "output_type": "stream",
     "text": [
      "address 추가:  {'name': '홍길동', 'age': 20, 'address': '서울'}\n",
      "age 수정:  {'name': '홍길동', 'age': 40, 'address': '서울'}\n",
      "address 삭제:  {'name': '홍길동', 'age': 40}\n",
      "dict 삭제 (clear):  {}\n"
     ]
    }
   ],
   "source": [
    "# 2. dict 추가, 수정, 삭제\n",
    "# 추가\n",
    "m = {\"name\":\"홍길동\", \"age\":20}\n",
    "m['address'] = \"서울\"\n",
    "print(\"address 추가: \", m)\n",
    "\n",
    "# 수정\n",
    "m[\"age\"] = 40\n",
    "print(\"age 수정: \", m)\n",
    "\n",
    "# 삭제\n",
    "del m[\"address\"]\n",
    "print(\"address 삭제: \", m)\n",
    "\n",
    "# dict 전체 삭제\n",
    "m.clear()\n",
    "print(\"dict 삭제 (clear): \", m)"
   ]
  },
  {
   "cell_type": "code",
   "execution_count": 3,
   "metadata": {},
   "outputs": [
    {
     "name": "stdout",
     "output_type": "stream",
     "text": [
      "길이:  2\n",
      "접근:  홍길동 20\n",
      "접근:  홍길동\n"
     ]
    }
   ],
   "source": [
    "# 3. dict 기타 함수\n",
    "m1 = {\"name\":\"홍길동\", \"age\":20}\n",
    "print(\"길이: \", len(m1))\n",
    "print(\"접근: \", m1[\"name\"], m1[\"age\"]) # m1['name'] 연관배열\n",
    "print(\"접근: \", m1.get(\"name\"))"
   ]
  },
  {
   "cell_type": "code",
   "execution_count": 4,
   "metadata": {},
   "outputs": [
    {
     "name": "stdout",
     "output_type": "stream",
     "text": [
      "key값만 얻기:  dict_keys(['name', 'age'])\n",
      "list 변환 후 key값만 얻기:  ['name', 'age']\n",
      "value값만 얻기:  dict_values(['홍길동', 20])\n",
      "list 변환 후 value값만 얻기:  ['홍길동', 20]\n",
      "key, value 얻기:  dict_items([('name', '홍길동'), ('age', 20)])\n",
      "list 변환 후 key, value 얻기:  [('name', '홍길동'), ('age', 20)]\n"
     ]
    }
   ],
   "source": [
    "print(\"key값만 얻기: \", m1.keys())\n",
    "m2 = list(m1.keys())\n",
    "print(\"list 변환 후 key값만 얻기: \", m2)\n",
    "\n",
    "print(\"value값만 얻기: \", m1.values())\n",
    "m3 = list(m1.values())\n",
    "print(\"list 변환 후 value값만 얻기: \", m3)\n",
    "\n",
    "print(\"key, value 얻기: \", m1.items())\n",
    "m4 = list(m1.items())\n",
    "print(\"list 변환 후 key, value 얻기: \", m4)"
   ]
  },
  {
   "cell_type": "code",
   "execution_count": 5,
   "metadata": {},
   "outputs": [
    {
     "name": "stdout",
     "output_type": "stream",
     "text": [
      "key 존재여부:  True\n",
      "key 존재여부:  True\n",
      "value 존재여부:  True\n"
     ]
    }
   ],
   "source": [
    "print(\"key 존재여부: \", \"name\" in m1)\n",
    "print(\"key 존재여부: \", \"name\" in m1.keys())\n",
    "print(\"value 존재여부: \", \"홍길동\" in m1.values())"
   ]
  }
 ],
 "metadata": {
  "kernelspec": {
   "display_name": "Python 3",
   "language": "python",
   "name": "python3"
  },
  "language_info": {
   "codemirror_mode": {
    "name": "ipython",
    "version": 3
   },
   "file_extension": ".py",
   "mimetype": "text/x-python",
   "name": "python",
   "nbconvert_exporter": "python",
   "pygments_lexer": "ipython3",
   "version": "3.7.2"
  }
 },
 "nbformat": 4,
 "nbformat_minor": 2
}
