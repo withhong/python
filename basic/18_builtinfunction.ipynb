{
 "cells": [
  {
   "cell_type": "markdown",
   "metadata": {},
   "source": [
    "## built in function (시스템 정의 함수)"
   ]
  },
  {
   "cell_type": "code",
   "execution_count": 21,
   "metadata": {},
   "outputs": [],
   "source": [
    "# 1. abs\n",
    "# 2. all\n",
    "# 3. any\n",
    "# 4. chr\n",
    "# 5. dir\n",
    "# 6. divmod\n",
    "# 7. enumerate\n",
    "# 8. eval\n",
    "# 9. filter\n",
    "# 10. hex\n",
    "# 11. id\n",
    "# 12. input\n",
    "# 13. int\n",
    "# 14. isinstance\n",
    "# 15. len\n",
    "# 16. list\n",
    "# 17. map\n",
    "# 18. max\n",
    "# 19. min\n",
    "# 20. oct\n",
    "# 21. open\n",
    "# 22. ord\n",
    "# 23. pow\n",
    "# 24. range\n",
    "# 25. round\n",
    "# 26. sorted\n",
    "# 27. str\n",
    "# 28. sum\n",
    "# 29. tuple\n",
    "# 30. type\n",
    "# 31. zip\n",
    "\n",
    "# help(__builtins__)"
   ]
  },
  {
   "cell_type": "code",
   "execution_count": 22,
   "metadata": {},
   "outputs": [
    {
     "name": "stdout",
     "output_type": "stream",
     "text": [
      "abs :  1\n",
      "abs :  1\n",
      "abs :  1.5\n",
      "abs :  1.5\n"
     ]
    }
   ],
   "source": [
    "# 1. abs\n",
    "# 절대값 계산\n",
    "print(\"abs : \", abs(1))\n",
    "print(\"abs : \", abs(-1))\n",
    "print(\"abs : \", abs(1.5))\n",
    "print(\"abs : \", abs(-1.5))"
   ]
  },
  {
   "cell_type": "code",
   "execution_count": 23,
   "metadata": {},
   "outputs": [
    {
     "name": "stdout",
     "output_type": "stream",
     "text": [
      "all :  False\n",
      "all :  True\n",
      "all :  True\n",
      "all :  True\n",
      "all :  True\n",
      "all :  False\n",
      "all :  False\n",
      "all :  False\n",
      "all :  True\n",
      "all :  False\n"
     ]
    }
   ],
   "source": [
    "# 2. all\n",
    "# 반복가능한 datatype 을 입력으로 받아서 모두 참이면 True, 하나라도 거짓이 있으면 False 를 리턴한다.\n",
    "print(\"all : \", all([0]))\n",
    "print(\"all : \", all([1]))\n",
    "print(\"all : \", all([10, 20, 30]))\n",
    "print(\"all : \", all({10, 20, 30}))\n",
    "print(\"all : \", all((10, 20, 30)))\n",
    "print(\"all : \", all([0, 20, 30]))\n",
    "print(\"all : \", all({0, 20, 30}))\n",
    "print(\"all : \", all((0, 20, 30)))\n",
    "print(\"all : \", all([(3>2), (5>1), (10>7)]))\n",
    "print(\"all : \", all([(3>2), (5>1), (10<7)]))"
   ]
  },
  {
   "cell_type": "code",
   "execution_count": 24,
   "metadata": {},
   "outputs": [
    {
     "name": "stdout",
     "output_type": "stream",
     "text": [
      "any :  False\n",
      "any :  True\n",
      "any :  True\n",
      "any :  True\n",
      "any :  True\n",
      "any :  False\n",
      "any :  False\n",
      "any :  False\n",
      "any :  True\n",
      "any :  True\n",
      "any :  False\n"
     ]
    }
   ],
   "source": [
    "# 3. any\n",
    "# 반복가능한 datatype 을 입력으로 받아서 하나라도 참이면 True, 모두 거짓이면 False 를 리턴한다.\n",
    "print(\"any : \", any([0]))\n",
    "print(\"any : \", any([1]))\n",
    "print(\"any : \", any([0, 20, 30]))\n",
    "print(\"any : \", any({0, 20, 30}))\n",
    "print(\"any : \", any((0, 20, 30)))\n",
    "print(\"any : \", any([0, 0, 0]))\n",
    "print(\"any : \", any({0, 0, 0}))\n",
    "print(\"any : \", any((0, 0, 0)))\n",
    "print(\"any : \", any([(3>2), (5>1), (10>7)]))\n",
    "print(\"any : \", any([(3>2), (5>1), (10<7)]))\n",
    "print(\"any : \", any([(3<2), (5<1), (10<7)]))"
   ]
  },
  {
   "cell_type": "code",
   "execution_count": 25,
   "metadata": {},
   "outputs": [
    {
     "name": "stdout",
     "output_type": "stream",
     "text": [
      "ASCII(48) 0\n",
      "ASCII(97) a\n"
     ]
    }
   ],
   "source": [
    "# 4. chr\n",
    "# 아스키 값(0~127)을 해당하는 문자로 반환\n",
    "print(\"ASCII(48)\", chr(48))\n",
    "print(\"ASCII(97)\", chr(97))"
   ]
  },
  {
   "cell_type": "code",
   "execution_count": 26,
   "metadata": {},
   "outputs": [
    {
     "name": "stdout",
     "output_type": "stream",
     "text": [
      "dir int : ['__abs__', '__add__', '__and__', '__bool__', '__ceil__', '__class__', '__delattr__', '__dir__', '__divmod__', '__doc__', '__eq__', '__float__', '__floor__', '__floordiv__', '__format__', '__ge__', '__getattribute__', '__getnewargs__', '__gt__', '__hash__', '__index__', '__init__', '__init_subclass__', '__int__', '__invert__', '__le__', '__lshift__', '__lt__', '__mod__', '__mul__', '__ne__', '__neg__', '__new__', '__or__', '__pos__', '__pow__', '__radd__', '__rand__', '__rdivmod__', '__reduce__', '__reduce_ex__', '__repr__', '__rfloordiv__', '__rlshift__', '__rmod__', '__rmul__', '__ror__', '__round__', '__rpow__', '__rrshift__', '__rshift__', '__rsub__', '__rtruediv__', '__rxor__', '__setattr__', '__sizeof__', '__str__', '__sub__', '__subclasshook__', '__truediv__', '__trunc__', '__xor__', 'bit_length', 'conjugate', 'denominator', 'from_bytes', 'imag', 'numerator', 'real', 'to_bytes']\n",
      "dir str : ['__add__', '__class__', '__contains__', '__delattr__', '__dir__', '__doc__', '__eq__', '__format__', '__ge__', '__getattribute__', '__getitem__', '__getnewargs__', '__gt__', '__hash__', '__init__', '__init_subclass__', '__iter__', '__le__', '__len__', '__lt__', '__mod__', '__mul__', '__ne__', '__new__', '__reduce__', '__reduce_ex__', '__repr__', '__rmod__', '__rmul__', '__setattr__', '__sizeof__', '__str__', '__subclasshook__', 'capitalize', 'casefold', 'center', 'count', 'encode', 'endswith', 'expandtabs', 'find', 'format', 'format_map', 'index', 'isalnum', 'isalpha', 'isascii', 'isdecimal', 'isdigit', 'isidentifier', 'islower', 'isnumeric', 'isprintable', 'isspace', 'istitle', 'isupper', 'join', 'ljust', 'lower', 'lstrip', 'maketrans', 'partition', 'replace', 'rfind', 'rindex', 'rjust', 'rpartition', 'rsplit', 'rstrip', 'split', 'splitlines', 'startswith', 'strip', 'swapcase', 'title', 'translate', 'upper', 'zfill']\n",
      "dir list : ['__add__', '__class__', '__contains__', '__delattr__', '__delitem__', '__dir__', '__doc__', '__eq__', '__format__', '__ge__', '__getattribute__', '__getitem__', '__gt__', '__hash__', '__iadd__', '__imul__', '__init__', '__init_subclass__', '__iter__', '__le__', '__len__', '__lt__', '__mul__', '__ne__', '__new__', '__reduce__', '__reduce_ex__', '__repr__', '__reversed__', '__rmul__', '__setattr__', '__setitem__', '__sizeof__', '__str__', '__subclasshook__', 'append', 'clear', 'copy', 'count', 'extend', 'index', 'insert', 'pop', 'remove', 'reverse', 'sort']\n",
      "dir set : ['__and__', '__class__', '__contains__', '__delattr__', '__dir__', '__doc__', '__eq__', '__format__', '__ge__', '__getattribute__', '__gt__', '__hash__', '__iand__', '__init__', '__init_subclass__', '__ior__', '__isub__', '__iter__', '__ixor__', '__le__', '__len__', '__lt__', '__ne__', '__new__', '__or__', '__rand__', '__reduce__', '__reduce_ex__', '__repr__', '__ror__', '__rsub__', '__rxor__', '__setattr__', '__sizeof__', '__str__', '__sub__', '__subclasshook__', '__xor__', 'add', 'clear', 'copy', 'difference', 'difference_update', 'discard', 'intersection', 'intersection_update', 'isdisjoint', 'issubset', 'issuperset', 'pop', 'remove', 'symmetric_difference', 'symmetric_difference_update', 'union', 'update']\n",
      "dir tuple : ['__add__', '__class__', '__contains__', '__delattr__', '__dir__', '__doc__', '__eq__', '__format__', '__ge__', '__getattribute__', '__getitem__', '__getnewargs__', '__gt__', '__hash__', '__init__', '__init_subclass__', '__iter__', '__le__', '__len__', '__lt__', '__mul__', '__ne__', '__new__', '__reduce__', '__reduce_ex__', '__repr__', '__rmul__', '__setattr__', '__sizeof__', '__str__', '__subclasshook__', 'count', 'index']\n"
     ]
    }
   ],
   "source": [
    "# 5. dir\n",
    "# datatype 이 가지는 함수(메소드)나 변수를 반환\n",
    "print(\"dir int :\", dir(10))\n",
    "print(\"dir str :\", dir('10'))\n",
    "print(\"dir list :\", dir([10,20,30]))\n",
    "print(\"dir set :\", dir({10,20,30}))\n",
    "print(\"dir tuple :\", dir((10,20,30)))"
   ]
  },
  {
   "cell_type": "code",
   "execution_count": 27,
   "metadata": {},
   "outputs": [
    {
     "name": "stdout",
     "output_type": "stream",
     "text": [
      "몫과 나머지 : (3, 1)\n"
     ]
    }
   ],
   "source": [
    "# 6. divmod\n",
    "# 몫과 나머지를 함께 반환 (tuple)\n",
    "print(\"몫과 나머지 :\", divmod(10, 3))"
   ]
  },
  {
   "cell_type": "code",
   "execution_count": 28,
   "metadata": {},
   "outputs": [
    {
     "name": "stdout",
     "output_type": "stream",
     "text": [
      "enumerate : {0: 10, 1: 20, 2: 30}\n",
      "enumerate : 1 apple\n",
      "enumerate : 2 banana\n",
      "enumerate : 3 grapes\n",
      "enumerate : 4 pear\n"
     ]
    }
   ],
   "source": [
    "# 7. enumerate\n",
    "# 순서가 있는 자료형(리스트, 튜플, 문자열)을 입력으로 받아 인덱스 값을 포함하는 enumerate 객체를 리턴\n",
    "m = enumerate([10,20,30])\n",
    "print(\"enumerate :\", dict(m))\n",
    "\n",
    "# for 문\n",
    "my_list = ['apple', 'banana', 'grapes', 'pear']\n",
    "for c, value in enumerate(my_list, 1):  # 두번째 파라미터는 세기 시작하는 첫번째 숫자, 기본값은 0\n",
    "    print(\"enumerate :\", c, value)"
   ]
  },
  {
   "cell_type": "code",
   "execution_count": 29,
   "metadata": {},
   "outputs": [
    {
     "name": "stdout",
     "output_type": "stream",
     "text": [
      "eval : 1+2\n",
      "eval : 1<2\n",
      "eval : 3\n",
      "eval : True\n"
     ]
    }
   ],
   "source": [
    "# 8. eval\n",
    "# 실행 가능한 문자열을 입력으로 받아서 결과값을 반환\n",
    "print(\"eval :\", \"1+2\")\n",
    "print(\"eval :\", \"1<2\")\n",
    "print(\"eval :\", eval(\"1+2\"))\n",
    "print(\"eval :\", eval(\"1<2\"))"
   ]
  },
  {
   "cell_type": "code",
   "execution_count": 30,
   "metadata": {},
   "outputs": [
    {
     "name": "stdout",
     "output_type": "stream",
     "text": [
      "filter : [1, 2]\n"
     ]
    }
   ],
   "source": [
    "# 9. filter\n",
    "# filter 함수는 첫번째 파라미터로 함수 이름, 두번째 파라미터로 반복 가능한 자료형\n",
    "# 반복하여 함수를 실행하여 참인 것만 반화\n",
    "\n",
    "def check(a):\n",
    "    return a > 0\n",
    "\n",
    "print(\"filter :\", list(filter(check, [0, 1, 2, -1, -2])))"
   ]
  },
  {
   "cell_type": "code",
   "execution_count": 31,
   "metadata": {},
   "outputs": [
    {
     "name": "stdout",
     "output_type": "stream",
     "text": [
      "hex : 0x8\n",
      "hex : 0x10\n"
     ]
    }
   ],
   "source": [
    "# 10. hex\n",
    "# 정수값을 16진수로 변한\n",
    "print(\"hex :\", hex(8))\n",
    "print(\"hex :\", hex(16))"
   ]
  },
  {
   "cell_type": "code",
   "execution_count": 32,
   "metadata": {},
   "outputs": [
    {
     "name": "stdout",
     "output_type": "stream",
     "text": [
      "id : 140729325184016\n",
      "id : 140729325184016\n",
      "id : 140729325184016\n"
     ]
    }
   ],
   "source": [
    "# 11. id\n",
    "# id(object)는 객체를 입력받아 객체의 고유 주소값(레퍼런스)을 리턴\n",
    "a = b = 7\n",
    "print(\"id :\", id(a))\n",
    "print(\"id :\", id(b))\n",
    "print(\"id :\", id(7))"
   ]
  },
  {
   "cell_type": "code",
   "execution_count": 33,
   "metadata": {},
   "outputs": [],
   "source": [
    "# 12. input\n",
    "# 사용자의 입력 처리 가능\n",
    "# m = input(\"이름 입력: \")\n",
    "# print(\"input :\", m)"
   ]
  },
  {
   "cell_type": "code",
   "execution_count": 34,
   "metadata": {},
   "outputs": [
    {
     "name": "stdout",
     "output_type": "stream",
     "text": [
      "int : 7\n",
      "int : 7\n",
      "20\n"
     ]
    }
   ],
   "source": [
    "# 13. int\n",
    "# 문자열 형태의 숫자나 소수점이 있는 숫자 등을 정수 형태로 리턴\n",
    "print(\"int :\", int('7'))\n",
    "print(\"int :\", int(7.0))\n",
    "# print(\"int :\", int('7.0')) # 소수점 있는 형태의 문자열은 안됨\n",
    "print(int(\"10\") + 10)"
   ]
  },
  {
   "cell_type": "code",
   "execution_count": 35,
   "metadata": {},
   "outputs": [
    {
     "name": "stdout",
     "output_type": "stream",
     "text": [
      "isinstance : True\n",
      "isinstance : False\n"
     ]
    }
   ],
   "source": [
    "# 14. isinstance\n",
    "# 인스턴스와 클래스 이름을 받아 인스턴스가 그 클래스의 인스턴스인지를 판단하여 참이면 True, 거짓이면 False를 리턴\n",
    "class my_class:\n",
    "    pass\n",
    "a = my_class()\n",
    "b = 7\n",
    "\n",
    "print(\"isinstance :\", isinstance(a, my_class))\n",
    "print(\"isinstance :\", isinstance(b, my_class))"
   ]
  },
  {
   "cell_type": "code",
   "execution_count": 36,
   "metadata": {},
   "outputs": [
    {
     "name": "stdout",
     "output_type": "stream",
     "text": [
      "len : 3\n",
      "len : 3\n",
      "len : 3\n",
      "len : 3\n"
     ]
    }
   ],
   "source": [
    "# 15. len\n",
    "# 입력값의 길이를 반환\n",
    "# 한글의 경우 파이썬2에서는 바이트, 파이썬3에서는 글자수를 반환\n",
    "print(\"len :\", len(\"ABC\"))\n",
    "print(\"len :\", len([10,20,30]))\n",
    "print(\"len :\", len({\"A\":10,\"B\":20,\"C\":30}))\n",
    "print(\"len :\", len(\"홍길동\"))"
   ]
  },
  {
   "cell_type": "code",
   "execution_count": 37,
   "metadata": {},
   "outputs": [
    {
     "name": "stdout",
     "output_type": "stream",
     "text": [
      "list : [10, 20, 30]\n"
     ]
    }
   ],
   "source": [
    "# 16. list\n",
    "# list 로 변환\n",
    "print(\"list :\", list({10,20,30}))"
   ]
  },
  {
   "cell_type": "code",
   "execution_count": 38,
   "metadata": {},
   "outputs": [
    {
     "name": "stdout",
     "output_type": "stream",
     "text": [
      "map : [11, 21, 31]\n",
      "map : [11, 21, 31]\n"
     ]
    }
   ],
   "source": [
    "# 17. map\n",
    "# map(f, iterable)은 함수(f)와 반복 가능한(iterable) 자료형을 입력으로 받아 결과 반환\n",
    "def my_func(a):\n",
    "    return a+1\n",
    "\n",
    "a1, a2, a3 = map(my_func, [10,20,30])\n",
    "print(\"map :\", list([a1, a2, a3]))\n",
    "print(\"map :\", list(map(my_func, [10,20,30])))"
   ]
  },
  {
   "cell_type": "code",
   "execution_count": 39,
   "metadata": {},
   "outputs": [
    {
     "name": "stdout",
     "output_type": "stream",
     "text": [
      "max : 30\n",
      "max : 30\n",
      "max : 30\n"
     ]
    }
   ],
   "source": [
    "# 18. max\n",
    "# 최대값 반환\n",
    "print(\"max :\", max([10,20,30]))\n",
    "print(\"max :\", max({10,20,30}))\n",
    "print(\"max :\", max((10,20,30)))"
   ]
  },
  {
   "cell_type": "code",
   "execution_count": 40,
   "metadata": {},
   "outputs": [
    {
     "name": "stdout",
     "output_type": "stream",
     "text": [
      "min : 10\n",
      "min : 10\n",
      "min : 10\n"
     ]
    }
   ],
   "source": [
    "# 19. min\n",
    "print(\"min :\", min([10,20,30]))\n",
    "print(\"min :\", min({10,20,30}))\n",
    "print(\"min :\", min((10,20,30)))"
   ]
  },
  {
   "cell_type": "code",
   "execution_count": 41,
   "metadata": {},
   "outputs": [
    {
     "name": "stdout",
     "output_type": "stream",
     "text": [
      "oct : 0o10\n",
      "oct : 0o20\n"
     ]
    }
   ],
   "source": [
    "# 20. oct\n",
    "# 정수값을 8진수로 변한\n",
    "print(\"oct :\", oct(8))\n",
    "print(\"oct :\", oct(16))"
   ]
  },
  {
   "cell_type": "code",
   "execution_count": 42,
   "metadata": {},
   "outputs": [],
   "source": [
    "# 21. open\n",
    "# 파일 입출력\n",
    "# open(filename, [mode])\n",
    "# mode : w, r, a, b\n",
    "#fread = open(\"read_mode.txt\", 'r')"
   ]
  },
  {
   "cell_type": "code",
   "execution_count": 43,
   "metadata": {},
   "outputs": [
    {
     "name": "stdout",
     "output_type": "stream",
     "text": [
      "ord : 97\n",
      "ord : 98\n"
     ]
    }
   ],
   "source": [
    "# 22. ord\n",
    "# 아스키 값 반환\n",
    "print(\"ord :\", ord('a'))\n",
    "print(\"ord :\", ord('b'))"
   ]
  },
  {
   "cell_type": "code",
   "execution_count": 44,
   "metadata": {},
   "outputs": [
    {
     "name": "stdout",
     "output_type": "stream",
     "text": [
      "pow : 8\n",
      "pow : 9\n"
     ]
    }
   ],
   "source": [
    "# 23. pow\n",
    "# pow(x, y)는 x의 y 제곱한 결과값\n",
    "print(\"pow :\", pow(2, 3))\n",
    "print(\"pow :\", pow(3, 2))"
   ]
  },
  {
   "cell_type": "code",
   "execution_count": 45,
   "metadata": {},
   "outputs": [
    {
     "name": "stdout",
     "output_type": "stream",
     "text": [
      "range : [0, 1, 2, 3, 4, 5, 6, 7, 8, 9]\n",
      "range : [1, 2, 3, 4]\n",
      "range : [1, 3, 5, 7, 9]\n",
      "range : [10, 9, 8, 7, 6, 5, 4, 3, 2]\n"
     ]
    }
   ],
   "source": [
    "# 24. range\n",
    "# range([start,] stop [,step])\n",
    "print(\"range :\", list(range(10)))\n",
    "print(\"range :\", list(range(1,5)))\n",
    "print(\"range :\", list(range(1,10,2)))\n",
    "print(\"range :\", list(range(10,1,-1)))"
   ]
  },
  {
   "cell_type": "code",
   "execution_count": 46,
   "metadata": {},
   "outputs": [
    {
     "name": "stdout",
     "output_type": "stream",
     "text": [
      "round : 1\n",
      "round : 2\n",
      "round : 1.38\n"
     ]
    }
   ],
   "source": [
    "# 25. round\n",
    "# round(number[, ndigits])\n",
    "print(\"round :\", round(1.3))\n",
    "print(\"round :\", round(1.5))\n",
    "print(\"round :\", round(1.378, 2))"
   ]
  },
  {
   "cell_type": "code",
   "execution_count": 47,
   "metadata": {},
   "outputs": [
    {
     "name": "stdout",
     "output_type": "stream",
     "text": [
      "sorted :  ['e', 'h', 'l', 'l', 'o']\n",
      "sorted :  ['e', 'h', 'l', 'l', 'o']\n",
      "sorted :  [10, 20, 30]\n",
      "sorted :  [10, 20, 30]\n"
     ]
    }
   ],
   "source": [
    "# 26. sorted\n",
    "# sorted(iterable) 함수는 입력값을 정렬한 후 그 결과를 리스트로 반환\n",
    "print(\"sorted : \", sorted(\"hello\"))\n",
    "print(\"sorted : \", sorted([\"h\",\"e\",\"l\",\"l\",\"o\"]))\n",
    "print(\"sorted : \", sorted([30, 20, 10]))\n",
    "print(\"sorted : \", sorted((30, 20, 10)))"
   ]
  },
  {
   "cell_type": "code",
   "execution_count": 48,
   "metadata": {},
   "outputs": [
    {
     "name": "stdout",
     "output_type": "stream",
     "text": [
      "str : 7\n",
      "str : HELLO\n",
      "10값\n"
     ]
    }
   ],
   "source": [
    "# 27. str\n",
    "# 문자열 형태로 객체를 변환\n",
    "print(\"str :\", str(7))\n",
    "print(\"str :\", str(\"Hello\").upper())\n",
    "print(str(10) + \"값\")"
   ]
  },
  {
   "cell_type": "code",
   "execution_count": 49,
   "metadata": {},
   "outputs": [
    {
     "name": "stdout",
     "output_type": "stream",
     "text": [
      "sum : 60\n",
      "sum : 60\n",
      "sum : 60\n"
     ]
    }
   ],
   "source": [
    "# 28. sum\n",
    "print(\"sum :\", sum([10, 20, 30]))\n",
    "print(\"sum :\", sum({10, 20, 30}))\n",
    "print(\"sum :\", sum((10, 20, 30)))"
   ]
  },
  {
   "cell_type": "code",
   "execution_count": 50,
   "metadata": {},
   "outputs": [
    {
     "name": "stdout",
     "output_type": "stream",
     "text": [
      "tuple : (10, 20, 30)\n"
     ]
    }
   ],
   "source": [
    "# 29. tuple\n",
    "print(\"tuple :\", tuple([10,20,30]))"
   ]
  },
  {
   "cell_type": "code",
   "execution_count": 51,
   "metadata": {},
   "outputs": [
    {
     "name": "stdout",
     "output_type": "stream",
     "text": [
      "type : <class 'str'>\n",
      "type : <class 'int'>\n"
     ]
    }
   ],
   "source": [
    "# 30. type\n",
    "# datatype 반환\n",
    "print(\"type :\", type(\"A\"))\n",
    "print(\"type :\", type(7))"
   ]
  },
  {
   "cell_type": "code",
   "execution_count": 52,
   "metadata": {},
   "outputs": [
    {
     "name": "stdout",
     "output_type": "stream",
     "text": [
      "zip : [(1, 4), (2, 5), (3, 6)]\n",
      "zip : [(1, 4, 7), (2, 5, 8), (3, 6, 9)]\n",
      "zip : [('a', 'd'), ('b', 'e'), ('c', 'f')]\n",
      "zip : {1: 4, 2: 5, 3: 6}\n"
     ]
    }
   ],
   "source": [
    "# 31. zip\n",
    "# zip(*iterable)은 동일한 개수로 이루어진 자료형을 묶어 주는 역할\n",
    "print(\"zip :\", list(zip([1, 2, 3], [4, 5, 6])))\n",
    "print(\"zip :\", list(zip([1, 2, 3], [4, 5, 6], [7, 8, 9])))\n",
    "print(\"zip :\", list(zip(\"abc\", \"def\")))\n",
    "print(\"zip :\", dict(zip([1, 2, 3], [4, 5, 6])))"
   ]
  },
  {
   "cell_type": "code",
   "execution_count": 53,
   "metadata": {},
   "outputs": [
    {
     "name": "stdout",
     "output_type": "stream",
     "text": [
      "float : 10.0\n"
     ]
    }
   ],
   "source": [
    "# 추가 1. 정수를 실수로 (float)\n",
    "print(\"float :\", float(10))"
   ]
  },
  {
   "cell_type": "code",
   "execution_count": 54,
   "metadata": {},
   "outputs": [
    {
     "name": "stdout",
     "output_type": "stream",
     "text": [
      "random : 0.8461460367175794\n",
      "random : 5\n",
      "random : 2\n",
      "random : a\n",
      "random : ['b', 'd', 'a', 'c']\n"
     ]
    }
   ],
   "source": [
    "# 추가 2. 랜덤값 얻기\n",
    "import random\n",
    "\n",
    "n1 = random.random()  # 0이상 1미만의 실수값(float)\n",
    "print(\"random :\", n1)\n",
    "\n",
    "n2 = random.randrange(1, 6)  # 1~5까지 정수값\n",
    "print(\"random :\", n2)\n",
    "\n",
    "n3 = random.randint(1, 6)  # 1~6까지 정수값\n",
    "print(\"random :\", n3)\n",
    "\n",
    "a = ['a', 'b', 'c', 'd']\n",
    "b = random.choice(a)  # 사용자 값에서 랜덤하게 값 얻기\n",
    "print(\"random :\", b)\n",
    "\n",
    "random.shuffle(a)  # shuffle\n",
    "print(\"random :\", a)"
   ]
  }
 ],
 "metadata": {
  "kernelspec": {
   "display_name": "Python 3",
   "language": "python",
   "name": "python3"
  },
  "language_info": {
   "codemirror_mode": {
    "name": "ipython",
    "version": 3
   },
   "file_extension": ".py",
   "mimetype": "text/x-python",
   "name": "python",
   "nbconvert_exporter": "python",
   "pygments_lexer": "ipython3",
   "version": "3.7.2"
  }
 },
 "nbformat": 4,
 "nbformat_minor": 2
}
