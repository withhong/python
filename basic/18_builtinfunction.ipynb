{
 "cells": [
  {
   "cell_type": "markdown",
   "metadata": {},
   "source": [
    "## built in function (시스템 정의 함수)"
   ]
  },
  {
   "cell_type": "code",
   "execution_count": 1,
   "metadata": {},
   "outputs": [
    {
     "name": "stdout",
     "output_type": "stream",
     "text": [
      "60\n",
      "60\n",
      "60\n"
     ]
    }
   ],
   "source": [
    "# 1. 합계 (sum)\n",
    "print(sum([10, 20, 30]))\n",
    "print(sum({10, 20, 30}))\n",
    "print(sum((10, 20, 30)))"
   ]
  },
  {
   "cell_type": "code",
   "execution_count": 2,
   "metadata": {},
   "outputs": [
    {
     "name": "stdout",
     "output_type": "stream",
     "text": [
      "20\n",
      "10값\n"
     ]
    }
   ],
   "source": [
    "# 2. 문자를 정수로 (int), 정수를 문자로 (str)\n",
    "print(int(\"10\") + 10)\n",
    "print(str(10) + \"값\")"
   ]
  },
  {
   "cell_type": "code",
   "execution_count": 3,
   "metadata": {},
   "outputs": [
    {
     "name": "stdout",
     "output_type": "stream",
     "text": [
      "10.0\n"
     ]
    }
   ],
   "source": [
    "# 3. 정수를 실수로 (float)\n",
    "print(float(10))"
   ]
  },
  {
   "cell_type": "code",
   "execution_count": 4,
   "metadata": {},
   "outputs": [
    {
     "name": "stdout",
     "output_type": "stream",
     "text": [
      "4+3\n",
      "4>3\n",
      "7\n",
      "True\n"
     ]
    }
   ],
   "source": [
    "# 4. 문자로 표현된 수식을 실행하는 함수 (eval)\n",
    "print('4+3')\n",
    "print('4>3')\n",
    "print(eval('4+3'))\n",
    "print(eval('4>3'))"
   ]
  },
  {
   "cell_type": "code",
   "execution_count": 5,
   "metadata": {},
   "outputs": [
    {
     "name": "stdout",
     "output_type": "stream",
     "text": [
      "0.5720394679430394\n",
      "3\n",
      "3\n",
      "a\n",
      "['a', 'b', 'd', 'c']\n"
     ]
    }
   ],
   "source": [
    "# 5. 랜덤값 얻기\n",
    "import random\n",
    "\n",
    "n1 = random.random()  # 0이상 1미만의 실수값(float)\n",
    "print(n1)\n",
    "\n",
    "n2 = random.randrange(1, 6)  # 1~5까지 정수값\n",
    "print(n2)\n",
    "\n",
    "n3 = random.randint(1, 6)  # 1~6까지 정수값\n",
    "print(n3)\n",
    "\n",
    "a = ['a', 'b', 'c', 'd']\n",
    "b = random.choice(a)  # 사용자 값에서 랜덤하게 값 얻기\n",
    "print(b)\n",
    "\n",
    "random.shuffle(a)  # shuffle\n",
    "print(a)"
   ]
  }
 ],
 "metadata": {
  "kernelspec": {
   "display_name": "Python 3",
   "language": "python",
   "name": "python3"
  },
  "language_info": {
   "codemirror_mode": {
    "name": "ipython",
    "version": 3
   },
   "file_extension": ".py",
   "mimetype": "text/x-python",
   "name": "python",
   "nbconvert_exporter": "python",
   "pygments_lexer": "ipython3",
   "version": "3.7.2"
  }
 },
 "nbformat": 4,
 "nbformat_minor": 2
}
